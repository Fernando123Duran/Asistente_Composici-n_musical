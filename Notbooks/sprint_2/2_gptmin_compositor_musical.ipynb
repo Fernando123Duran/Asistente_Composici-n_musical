{
  "nbformat": 4,
  "nbformat_minor": 0,
  "metadata": {
    "colab": {
      "provenance": [],
      "mount_file_id": "1jSSf_Gd9Qs4w3cFhjSAfEWSHMO_7j2Yp",
      "authorship_tag": "ABX9TyNfbxNYQO90+0OBjTGMtIjP",
      "include_colab_link": true
    },
    "kernelspec": {
      "name": "python3",
      "display_name": "Python 3"
    },
    "language_info": {
      "name": "python"
    },
    "gpuClass": "standard",
    "widgets": {
      "application/vnd.jupyter.widget-state+json": {
        "c199e2fad0c641109c68cf683e990ef3": {
          "model_module": "@jupyter-widgets/controls",
          "model_name": "HBoxModel",
          "model_module_version": "1.5.0",
          "state": {
            "_dom_classes": [],
            "_model_module": "@jupyter-widgets/controls",
            "_model_module_version": "1.5.0",
            "_model_name": "HBoxModel",
            "_view_count": null,
            "_view_module": "@jupyter-widgets/controls",
            "_view_module_version": "1.5.0",
            "_view_name": "HBoxView",
            "box_style": "",
            "children": [
              "IPY_MODEL_8c04492a79df4f56b1bbc5ac3d0c8c6b",
              "IPY_MODEL_7f0d0702884d49f6b3e18ba8e84ac87f",
              "IPY_MODEL_3c84c72dd3b449388de8ff2b871d38ea"
            ],
            "layout": "IPY_MODEL_035b4e919b1f45f19ee46ac01cdc27ac"
          }
        },
        "8c04492a79df4f56b1bbc5ac3d0c8c6b": {
          "model_module": "@jupyter-widgets/controls",
          "model_name": "HTMLModel",
          "model_module_version": "1.5.0",
          "state": {
            "_dom_classes": [],
            "_model_module": "@jupyter-widgets/controls",
            "_model_module_version": "1.5.0",
            "_model_name": "HTMLModel",
            "_view_count": null,
            "_view_module": "@jupyter-widgets/controls",
            "_view_module_version": "1.5.0",
            "_view_name": "HTMLView",
            "description": "",
            "description_tooltip": null,
            "layout": "IPY_MODEL_91a8ccfc9d904fe9a110127ea82f7647",
            "placeholder": "​",
            "style": "IPY_MODEL_70e8781c071e4928905f378280621bc1",
            "value": "Epoch 9: 100%"
          }
        },
        "7f0d0702884d49f6b3e18ba8e84ac87f": {
          "model_module": "@jupyter-widgets/controls",
          "model_name": "FloatProgressModel",
          "model_module_version": "1.5.0",
          "state": {
            "_dom_classes": [],
            "_model_module": "@jupyter-widgets/controls",
            "_model_module_version": "1.5.0",
            "_model_name": "FloatProgressModel",
            "_view_count": null,
            "_view_module": "@jupyter-widgets/controls",
            "_view_module_version": "1.5.0",
            "_view_name": "ProgressView",
            "bar_style": "success",
            "description": "",
            "description_tooltip": null,
            "layout": "IPY_MODEL_a179d5747f3a44fb8c7200ea8204b248",
            "max": 12,
            "min": 0,
            "orientation": "horizontal",
            "style": "IPY_MODEL_c10ef590cab3405a995bcbdb9181098f",
            "value": 12
          }
        },
        "3c84c72dd3b449388de8ff2b871d38ea": {
          "model_module": "@jupyter-widgets/controls",
          "model_name": "HTMLModel",
          "model_module_version": "1.5.0",
          "state": {
            "_dom_classes": [],
            "_model_module": "@jupyter-widgets/controls",
            "_model_module_version": "1.5.0",
            "_model_name": "HTMLModel",
            "_view_count": null,
            "_view_module": "@jupyter-widgets/controls",
            "_view_module_version": "1.5.0",
            "_view_name": "HTMLView",
            "description": "",
            "description_tooltip": null,
            "layout": "IPY_MODEL_964df13a96204f32b285f5bbe58e7e08",
            "placeholder": "​",
            "style": "IPY_MODEL_15ec6cb5aee342589e6ec1189171d003",
            "value": " 12/12 [00:15&lt;00:00,  1.31s/it, loss=0.513, v_num=0]"
          }
        },
        "035b4e919b1f45f19ee46ac01cdc27ac": {
          "model_module": "@jupyter-widgets/base",
          "model_name": "LayoutModel",
          "model_module_version": "1.2.0",
          "state": {
            "_model_module": "@jupyter-widgets/base",
            "_model_module_version": "1.2.0",
            "_model_name": "LayoutModel",
            "_view_count": null,
            "_view_module": "@jupyter-widgets/base",
            "_view_module_version": "1.2.0",
            "_view_name": "LayoutView",
            "align_content": null,
            "align_items": null,
            "align_self": null,
            "border": null,
            "bottom": null,
            "display": "inline-flex",
            "flex": null,
            "flex_flow": "row wrap",
            "grid_area": null,
            "grid_auto_columns": null,
            "grid_auto_flow": null,
            "grid_auto_rows": null,
            "grid_column": null,
            "grid_gap": null,
            "grid_row": null,
            "grid_template_areas": null,
            "grid_template_columns": null,
            "grid_template_rows": null,
            "height": null,
            "justify_content": null,
            "justify_items": null,
            "left": null,
            "margin": null,
            "max_height": null,
            "max_width": null,
            "min_height": null,
            "min_width": null,
            "object_fit": null,
            "object_position": null,
            "order": null,
            "overflow": null,
            "overflow_x": null,
            "overflow_y": null,
            "padding": null,
            "right": null,
            "top": null,
            "visibility": null,
            "width": "100%"
          }
        },
        "91a8ccfc9d904fe9a110127ea82f7647": {
          "model_module": "@jupyter-widgets/base",
          "model_name": "LayoutModel",
          "model_module_version": "1.2.0",
          "state": {
            "_model_module": "@jupyter-widgets/base",
            "_model_module_version": "1.2.0",
            "_model_name": "LayoutModel",
            "_view_count": null,
            "_view_module": "@jupyter-widgets/base",
            "_view_module_version": "1.2.0",
            "_view_name": "LayoutView",
            "align_content": null,
            "align_items": null,
            "align_self": null,
            "border": null,
            "bottom": null,
            "display": null,
            "flex": null,
            "flex_flow": null,
            "grid_area": null,
            "grid_auto_columns": null,
            "grid_auto_flow": null,
            "grid_auto_rows": null,
            "grid_column": null,
            "grid_gap": null,
            "grid_row": null,
            "grid_template_areas": null,
            "grid_template_columns": null,
            "grid_template_rows": null,
            "height": null,
            "justify_content": null,
            "justify_items": null,
            "left": null,
            "margin": null,
            "max_height": null,
            "max_width": null,
            "min_height": null,
            "min_width": null,
            "object_fit": null,
            "object_position": null,
            "order": null,
            "overflow": null,
            "overflow_x": null,
            "overflow_y": null,
            "padding": null,
            "right": null,
            "top": null,
            "visibility": null,
            "width": null
          }
        },
        "70e8781c071e4928905f378280621bc1": {
          "model_module": "@jupyter-widgets/controls",
          "model_name": "DescriptionStyleModel",
          "model_module_version": "1.5.0",
          "state": {
            "_model_module": "@jupyter-widgets/controls",
            "_model_module_version": "1.5.0",
            "_model_name": "DescriptionStyleModel",
            "_view_count": null,
            "_view_module": "@jupyter-widgets/base",
            "_view_module_version": "1.2.0",
            "_view_name": "StyleView",
            "description_width": ""
          }
        },
        "a179d5747f3a44fb8c7200ea8204b248": {
          "model_module": "@jupyter-widgets/base",
          "model_name": "LayoutModel",
          "model_module_version": "1.2.0",
          "state": {
            "_model_module": "@jupyter-widgets/base",
            "_model_module_version": "1.2.0",
            "_model_name": "LayoutModel",
            "_view_count": null,
            "_view_module": "@jupyter-widgets/base",
            "_view_module_version": "1.2.0",
            "_view_name": "LayoutView",
            "align_content": null,
            "align_items": null,
            "align_self": null,
            "border": null,
            "bottom": null,
            "display": null,
            "flex": "2",
            "flex_flow": null,
            "grid_area": null,
            "grid_auto_columns": null,
            "grid_auto_flow": null,
            "grid_auto_rows": null,
            "grid_column": null,
            "grid_gap": null,
            "grid_row": null,
            "grid_template_areas": null,
            "grid_template_columns": null,
            "grid_template_rows": null,
            "height": null,
            "justify_content": null,
            "justify_items": null,
            "left": null,
            "margin": null,
            "max_height": null,
            "max_width": null,
            "min_height": null,
            "min_width": null,
            "object_fit": null,
            "object_position": null,
            "order": null,
            "overflow": null,
            "overflow_x": null,
            "overflow_y": null,
            "padding": null,
            "right": null,
            "top": null,
            "visibility": null,
            "width": null
          }
        },
        "c10ef590cab3405a995bcbdb9181098f": {
          "model_module": "@jupyter-widgets/controls",
          "model_name": "ProgressStyleModel",
          "model_module_version": "1.5.0",
          "state": {
            "_model_module": "@jupyter-widgets/controls",
            "_model_module_version": "1.5.0",
            "_model_name": "ProgressStyleModel",
            "_view_count": null,
            "_view_module": "@jupyter-widgets/base",
            "_view_module_version": "1.2.0",
            "_view_name": "StyleView",
            "bar_color": null,
            "description_width": ""
          }
        },
        "964df13a96204f32b285f5bbe58e7e08": {
          "model_module": "@jupyter-widgets/base",
          "model_name": "LayoutModel",
          "model_module_version": "1.2.0",
          "state": {
            "_model_module": "@jupyter-widgets/base",
            "_model_module_version": "1.2.0",
            "_model_name": "LayoutModel",
            "_view_count": null,
            "_view_module": "@jupyter-widgets/base",
            "_view_module_version": "1.2.0",
            "_view_name": "LayoutView",
            "align_content": null,
            "align_items": null,
            "align_self": null,
            "border": null,
            "bottom": null,
            "display": null,
            "flex": null,
            "flex_flow": null,
            "grid_area": null,
            "grid_auto_columns": null,
            "grid_auto_flow": null,
            "grid_auto_rows": null,
            "grid_column": null,
            "grid_gap": null,
            "grid_row": null,
            "grid_template_areas": null,
            "grid_template_columns": null,
            "grid_template_rows": null,
            "height": null,
            "justify_content": null,
            "justify_items": null,
            "left": null,
            "margin": null,
            "max_height": null,
            "max_width": null,
            "min_height": null,
            "min_width": null,
            "object_fit": null,
            "object_position": null,
            "order": null,
            "overflow": null,
            "overflow_x": null,
            "overflow_y": null,
            "padding": null,
            "right": null,
            "top": null,
            "visibility": null,
            "width": null
          }
        },
        "15ec6cb5aee342589e6ec1189171d003": {
          "model_module": "@jupyter-widgets/controls",
          "model_name": "DescriptionStyleModel",
          "model_module_version": "1.5.0",
          "state": {
            "_model_module": "@jupyter-widgets/controls",
            "_model_module_version": "1.5.0",
            "_model_name": "DescriptionStyleModel",
            "_view_count": null,
            "_view_module": "@jupyter-widgets/base",
            "_view_module_version": "1.2.0",
            "_view_name": "StyleView",
            "description_width": ""
          }
        }
      }
    }
  },
  "cells": [
    {
      "cell_type": "markdown",
      "metadata": {
        "id": "view-in-github",
        "colab_type": "text"
      },
      "source": [
        "<a href=\"https://colab.research.google.com/github/Fernando123Duran/Asistente_Composici-n_musical/blob/main/Notbooks/sprint_2/2_gptmin_compositor_musical.ipynb\" target=\"_parent\"><img src=\"https://colab.research.google.com/assets/colab-badge.svg\" alt=\"Open In Colab\"/></a>"
      ]
    },
    {
      "cell_type": "code",
      "execution_count": null,
      "metadata": {
        "colab": {
          "base_uri": "https://localhost:8080/"
        },
        "id": "wW670EpmtBmo",
        "outputId": "12e1c385-1581-4c63-a6aa-12525c7c041b"
      },
      "outputs": [
        {
          "output_type": "stream",
          "name": "stdout",
          "text": [
            "Mounted at /gdrive\n",
            "/gdrive/My Drive/Colab/proyecto_perfil/modelo\n"
          ]
        }
      ],
      "source": [
        "from google.colab import drive\n",
        "drive.mount('/gdrive')\n",
        "%cd '/gdrive/My Drive/Colab/proyecto_perfil/modelo'"
      ]
    },
    {
      "cell_type": "code",
      "source": [
        "%cd minGPT"
      ],
      "metadata": {
        "colab": {
          "base_uri": "https://localhost:8080/"
        },
        "id": "n5F5yCQ18vxr",
        "outputId": "fd243f6b-17de-4e90-ef0c-404673a18169"
      },
      "execution_count": null,
      "outputs": [
        {
          "output_type": "stream",
          "name": "stdout",
          "text": [
            "/gdrive/My Drive/Colab/proyecto_perfil/modelo/minGPT\n"
          ]
        }
      ]
    },
    {
      "cell_type": "code",
      "source": [
        "!pip install -e ."
      ],
      "metadata": {
        "colab": {
          "base_uri": "https://localhost:8080/"
        },
        "id": "kNdJ_tGe82ui",
        "outputId": "500cf4ec-5518-4556-d52d-3066e3f38e56"
      },
      "execution_count": null,
      "outputs": [
        {
          "output_type": "stream",
          "name": "stdout",
          "text": [
            "Looking in indexes: https://pypi.org/simple, https://us-python.pkg.dev/colab-wheels/public/simple/\n",
            "Obtaining file:///gdrive/My%20Drive/Colab/proyecto_perfil/modelo/minGPT\n",
            "Requirement already satisfied: torch in /usr/local/lib/python3.7/dist-packages (from minGPT==0.0.1) (1.12.1+cu113)\n",
            "Requirement already satisfied: typing-extensions in /usr/local/lib/python3.7/dist-packages (from torch->minGPT==0.0.1) (4.1.1)\n",
            "Installing collected packages: minGPT\n",
            "  Running setup.py develop for minGPT\n",
            "Successfully installed minGPT-0.0.1\n"
          ]
        }
      ]
    },
    {
      "cell_type": "code",
      "source": [
        "# Ejecutar solo la primera vez cuando se prepara el entorno de trabajo\n",
        "# !git clone https://github.com/karpathy/minGPT.git "
      ],
      "metadata": {
        "colab": {
          "base_uri": "https://localhost:8080/"
        },
        "id": "mBZvd8P0uHpN",
        "outputId": "2ffd51b5-5693-44bb-dc8d-c73563730030"
      },
      "execution_count": null,
      "outputs": [
        {
          "output_type": "stream",
          "name": "stdout",
          "text": [
            "Cloning into 'minGPT'...\n",
            "remote: Enumerating objects: 486, done.\u001b[K\n",
            "remote: Counting objects: 100% (195/195), done.\u001b[K\n",
            "remote: Compressing objects: 100% (99/99), done.\u001b[K\n",
            "remote: Total 486 (delta 101), reused 160 (delta 88), pack-reused 291\u001b[K\n",
            "Receiving objects: 100% (486/486), 1.46 MiB | 8.01 MiB/s, done.\n",
            "Resolving deltas: 100% (256/256), done.\n"
          ]
        }
      ]
    },
    {
      "cell_type": "code",
      "source": [
        "!pip list"
      ],
      "metadata": {
        "id": "fDC94U3ro-jv"
      },
      "execution_count": null,
      "outputs": []
    },
    {
      "cell_type": "code",
      "source": [
        "import torch\n",
        "import numpy as np\n",
        "import json"
      ],
      "metadata": {
        "id": "AxL62nXX24jQ"
      },
      "execution_count": null,
      "outputs": []
    },
    {
      "cell_type": "code",
      "source": [
        "\n",
        "def cargarArchivosNPY(path):\n",
        "    with open(path, 'rb') as f:\n",
        "        datos = np.load(f,allow_pickle=True)\n",
        "    return datos \n",
        "\n",
        "def cargarVocabulario(pathVocabulario):\n",
        "    with open(pathVocabulario, \"r\") as fp:\n",
        "        mappings = json.load(fp)\n",
        "    return mappings"
      ],
      "metadata": {
        "id": "xlWCs2hFvtGN"
      },
      "execution_count": null,
      "outputs": []
    },
    {
      "cell_type": "code",
      "source": [
        "vocab=cargarVocabulario(\"../../vocabulario/vocabulario2022.json\")\n",
        "len(vocab)"
      ],
      "metadata": {
        "colab": {
          "base_uri": "https://localhost:8080/"
        },
        "id": "_Ggmlubs01kz",
        "outputId": "f918a946-89cc-4a2e-c23d-ee34198ba1ca"
      },
      "execution_count": null,
      "outputs": [
        {
          "output_type": "execute_result",
          "data": {
            "text/plain": [
              "141"
            ]
          },
          "metadata": {},
          "execution_count": 6
        }
      ]
    },
    {
      "cell_type": "code",
      "source": [
        "vocabReves=cargarVocabulario(\"../../vocabulario/vocabulario_inverso_2022.json\")\n",
        "len(vocab)"
      ],
      "metadata": {
        "colab": {
          "base_uri": "https://localhost:8080/"
        },
        "id": "_lEe4UrKAdEN",
        "outputId": "5df4dd02-67ea-4c38-97e2-93f96a99f0e0"
      },
      "execution_count": null,
      "outputs": [
        {
          "output_type": "execute_result",
          "data": {
            "text/plain": [
              "141"
            ]
          },
          "metadata": {},
          "execution_count": 7
        }
      ]
    },
    {
      "cell_type": "code",
      "source": [
        "datos=cargarArchivosNPY(\"../../archivos_numpy/partituras_tinku_23.npy\")\n"
      ],
      "metadata": {
        "id": "n2zTKrFayfhz"
      },
      "execution_count": null,
      "outputs": []
    },
    {
      "cell_type": "code",
      "source": [
        "datosCompletos=[]\n",
        "datos=datos.tolist()\n",
        "for da in datos:\n",
        "  datosCompletos.append(np.array(datos[da]))\n",
        "\n",
        "datosCompletos[0]"
      ],
      "metadata": {
        "colab": {
          "base_uri": "https://localhost:8080/"
        },
        "id": "u8PqgdtIAPH-",
        "outputId": "2bd8b886-a06d-4442-cd69-b3ccc27c152f"
      },
      "execution_count": null,
      "outputs": [
        {
          "output_type": "execute_result",
          "data": {
            "text/plain": [
              "array([  1,  51,  47,  38, 107,   3, 111,   4, 111,   3,  19, 111,   3,\n",
              "        21, 111,   4, 109,   3, 111,   4, 109,   4, 111,   3, 109,   3,\n",
              "       111,   3, 113,   3, 114,   8,  26,   4, 106,   3, 109,   4, 109,\n",
              "         3,  19, 109,   3,  21, 109,   4, 111,   3, 109,   5, 104,   3,\n",
              "       106,   3, 104,   3, 103,   3, 106,   3, 104,   6,  26,   6,  30,\n",
              "        29, 104,   3, 107,   4, 107,   3,  19, 107,   3,  21, 107,   4,\n",
              "       106,   3, 107,   4, 106,   4, 107,   3, 106,   3, 107,   3, 109,\n",
              "         3, 111,   8,  26,   4, 106,   3, 109,   4, 109,   3,  19, 109,\n",
              "         3,  21, 109,   4, 111,   3, 109,   5, 106,   3, 106,   3, 104,\n",
              "         3, 103,   3, 106,   3,  22,  27, 104,   8,  26,   4,  30,  23,\n",
              "        27,  24, 104,   5, 111,   3,  19, 111,   3,  21, 111,   4, 109,\n",
              "         3,  27,  25,  29, 111,   3, 111,   4, 109,   3, 111,   5, 109,\n",
              "         3, 111,   8,  26,   4, 106,   3, 109,   4, 109,   3,  19, 109,\n",
              "         3,  21, 109,   4, 111,   3, 109,   5, 106,   3, 106,   3, 104,\n",
              "         3, 103,   3, 106,   3,  22,  27, 104,   5, 111,   3,  19, 111,\n",
              "         3,  21, 111,   4, 109,   3,  30,  23,  27,  24, 104,   4, 104,\n",
              "         4, 104,   3, 102,   3,  99,   4,  27,  25,  29, 116,   3, 116,\n",
              "         3, 114,   3, 114,   3, 111,   3, 111,   3, 109,   3, 111,   3,\n",
              "       114,   8,  26,   4, 109,   3, 111,   3, 114,   3, 109,   3, 111,\n",
              "         3, 114,   3, 109,   3, 107,   3, 104,   8,  26,   4,  30,  29,\n",
              "       104,   3, 107,   4, 107,   3,  19, 107,   3,  21, 107,   4, 106,\n",
              "         3, 107,   4, 106,   4, 107,   3, 106,   3, 107,   3, 109,   3,\n",
              "       111,   8,  26,   4, 106,   3, 109,   4, 109,   3,  19, 109,   3,\n",
              "        21, 109,   4, 111,   3, 109,   5, 106,   3, 106,   3, 104,   3,\n",
              "       103,   3, 106,   3,  22,  27, 104,   8,  26,   4,  30,  23,  27,\n",
              "        24, 104,   4, 104,   4, 104,   3, 102,   3,  99,   4,  25,  24,\n",
              "        28,  25,   2])"
            ]
          },
          "metadata": {},
          "execution_count": 9
        }
      ]
    },
    {
      "cell_type": "code",
      "source": [
        "# datos= datos.tolist()\n",
        "# datos=np.array(datos)\n",
        "# datos"
      ],
      "metadata": {
        "id": "7gop8NCJ-ulP"
      },
      "execution_count": null,
      "outputs": []
    },
    {
      "cell_type": "code",
      "source": [
        "!ls "
      ],
      "metadata": {
        "colab": {
          "base_uri": "https://localhost:8080/"
        },
        "id": "CGmKHIxw0IGe",
        "outputId": "e01e92ec-1600-4eb9-9ffd-a7c76e6b31d2"
      },
      "execution_count": null,
      "outputs": [
        {
          "output_type": "stream",
          "name": "stdout",
          "text": [
            "demo.ipynb  generate.ipynb  mingpt\t     mingpt.jpg  README.md  tests\n",
            "font.sf2    LICENSE\t    minGPT.egg-info  projects\t setup.py\n"
          ]
        }
      ]
    },
    {
      "cell_type": "code",
      "source": [
        "# datoPrueba= datos.tolist()\n",
        "# datoPrueba=np.array(datoPrueba[\"0\"])\n",
        "# len(datoPrueba)"
      ],
      "metadata": {
        "colab": {
          "base_uri": "https://localhost:8080/"
        },
        "id": "eFzo15O6OW9a",
        "outputId": "27f8d994-1c80-4363-9bce-dca0832d83e7"
      },
      "execution_count": null,
      "outputs": [
        {
          "output_type": "execute_result",
          "data": {
            "text/plain": [
              "341"
            ]
          },
          "metadata": {},
          "execution_count": 9
        }
      ]
    },
    {
      "cell_type": "code",
      "source": [
        "\n",
        "class Dataset(torch.utils.data.Dataset):\n",
        "\n",
        "  def __init__(self, examples,sizeBlock):\n",
        "    self.examples = examples\n",
        "    self.sizeBlock = sizeBlock\n",
        "\n",
        "  def __len__(self):\n",
        "    return len(self.examples)\n",
        "   \n",
        "  def __getitem__(self, ix):\n",
        "    dato=self.examples[ix]\n",
        "    entrada=dato[:-1]\n",
        "    salida = dato[1:]\n",
        "    input = np.pad(entrada, (0,self.sizeBlock-len(entrada)), 'constant', constant_values=0)\n",
        "    target = np.pad(salida, (0,self.sizeBlock-len(salida)), 'constant', constant_values=0)\n",
        "    assert len(input) == self.sizeBlock\n",
        "    assert len(target) == self.sizeBlock\n",
        "\n",
        "    return torch.LongTensor(input), torch.LongTensor(target)"
      ],
      "metadata": {
        "id": "oxGeZCnk2A6n"
      },
      "execution_count": null,
      "outputs": []
    },
    {
      "cell_type": "code",
      "source": [
        "from sklearn.model_selection import train_test_split\n",
        "class DataModuleLinghtning(pl.LightningDataModule):\n",
        "  def __init__(self, pathDatos=\"../../archivos_numpy/dataAumentation.npy\",batch_size=25):\n",
        "    self.pathDatos=pathDatos\n",
        "    self.batch_size=batch_size\n",
        "    self.entre=None\n",
        "    self.valid=None\n",
        "\n",
        "  def setup(self,stage=None):\n",
        "    with open(self.pathDatos, 'rb') as f:\n",
        "      datos = np.load(f,allow_pickle=True)\n",
        "    datosCompletos=[]\n",
        "    datos=datos.tolist()\n",
        "    for da in datos:\n",
        "      datosCompletos.append(np.array(datos[da]))\n",
        "    entrep, validp= train_test_split(datosCompletos, shuffle=True,train_size=0.9)\n",
        "    self.entre=Dataset(examples=entrep,sizeBlock=768)\n",
        "    self.valid=Dataset(examples=validp,sizeBlock=768)\n",
        "\n",
        "  def train_dataloader(self):\n",
        "    return torch.utils.data.DataLoader(self.entre, batch_size=self.batch_size, shuffle=True, pin_memory=True)\n",
        "  \n",
        "  def valid_dataloader(self):\n",
        "    return torch.utils.data.DataLoader(self.valid, batch_size=self.batch_size, shuffle=False, pin_memory=True)\n",
        "    \n"
      ],
      "metadata": {
        "id": "GF47xiDVRfMb"
      },
      "execution_count": null,
      "outputs": []
    },
    {
      "cell_type": "code",
      "source": [
        "dataSetEntre=DataModuleLinghtning()\n",
        "dataSetEntre.setup()"
      ],
      "metadata": {
        "id": "ama5zyerRiV8"
      },
      "execution_count": null,
      "outputs": []
    },
    {
      "cell_type": "code",
      "source": [
        "# instanciaDataset=Dataset(datosCompletos,1024)\n",
        "# input,target=instanciaDataset[0]\n",
        "# print(input)\n"
      ],
      "metadata": {
        "id": "0laoK-CjN1_V",
        "colab": {
          "base_uri": "https://localhost:8080/"
        },
        "outputId": "11be04d6-2a12-4592-c4d1-9c22457a916c"
      },
      "execution_count": null,
      "outputs": [
        {
          "output_type": "stream",
          "name": "stdout",
          "text": [
            "tensor([ 1, 51, 47,  ...,  0,  0,  0])\n"
          ]
        }
      ]
    },
    {
      "cell_type": "code",
      "source": [
        "# print(target)"
      ],
      "metadata": {
        "id": "C6GVgZ1NViOW"
      },
      "execution_count": null,
      "outputs": []
    },
    {
      "cell_type": "code",
      "source": [
        "dl = torch.utils.data.DataLoader(instanciaDataset, batch_size=2, shuffle=False)\n",
        "\n",
        "x, y = next(iter(dl))\n",
        "x.shape, y.shape"
      ],
      "metadata": {
        "colab": {
          "base_uri": "https://localhost:8080/"
        },
        "id": "itOZssgMIya1",
        "outputId": "4b540e59-96bc-4e79-aa76-0ba96244394e"
      },
      "execution_count": null,
      "outputs": [
        {
          "output_type": "execute_result",
          "data": {
            "text/plain": [
              "(torch.Size([2, 1024]), torch.Size([2, 1024]))"
            ]
          },
          "metadata": {},
          "execution_count": 13
        }
      ]
    },
    {
      "cell_type": "code",
      "source": [
        "!pip install pytorch_lightning"
      ],
      "metadata": {
        "id": "BGcdzM0TW12W",
        "colab": {
          "base_uri": "https://localhost:8080/"
        },
        "outputId": "1d4bf812-96b0-4916-cceb-a13cc04ff1a6"
      },
      "execution_count": null,
      "outputs": [
        {
          "output_type": "stream",
          "name": "stdout",
          "text": [
            "Looking in indexes: https://pypi.org/simple, https://us-python.pkg.dev/colab-wheels/public/simple/\n",
            "Collecting pytorch_lightning\n",
            "  Downloading pytorch_lightning-1.8.3.post1-py3-none-any.whl (798 kB)\n",
            "\u001b[K     |████████████████████████████████| 798 kB 36.7 MB/s \n",
            "\u001b[?25hCollecting lightning-utilities==0.3.*\n",
            "  Downloading lightning_utilities-0.3.0-py3-none-any.whl (15 kB)\n",
            "Requirement already satisfied: typing-extensions>=4.0.0 in /usr/local/lib/python3.7/dist-packages (from pytorch_lightning) (4.1.1)\n",
            "Collecting torchmetrics>=0.7.0\n",
            "  Downloading torchmetrics-0.10.3-py3-none-any.whl (529 kB)\n",
            "\u001b[K     |████████████████████████████████| 529 kB 70.5 MB/s \n",
            "\u001b[?25hRequirement already satisfied: fsspec[http]>2021.06.0 in /usr/local/lib/python3.7/dist-packages (from pytorch_lightning) (2022.11.0)\n",
            "Requirement already satisfied: numpy>=1.17.2 in /usr/local/lib/python3.7/dist-packages (from pytorch_lightning) (1.21.6)\n",
            "Requirement already satisfied: tqdm>=4.57.0 in /usr/local/lib/python3.7/dist-packages (from pytorch_lightning) (4.64.1)\n",
            "Collecting tensorboardX>=2.2\n",
            "  Downloading tensorboardX-2.5.1-py2.py3-none-any.whl (125 kB)\n",
            "\u001b[K     |████████████████████████████████| 125 kB 66.1 MB/s \n",
            "\u001b[?25hRequirement already satisfied: PyYAML>=5.4 in /usr/local/lib/python3.7/dist-packages (from pytorch_lightning) (6.0)\n",
            "Requirement already satisfied: packaging>=17.0 in /usr/local/lib/python3.7/dist-packages (from pytorch_lightning) (21.3)\n",
            "Requirement already satisfied: torch>=1.9.* in /usr/local/lib/python3.7/dist-packages (from pytorch_lightning) (1.12.1+cu113)\n",
            "Collecting fire\n",
            "  Downloading fire-0.4.0.tar.gz (87 kB)\n",
            "\u001b[K     |████████████████████████████████| 87 kB 7.3 MB/s \n",
            "\u001b[?25hRequirement already satisfied: aiohttp!=4.0.0a0,!=4.0.0a1 in /usr/local/lib/python3.7/dist-packages (from fsspec[http]>2021.06.0->pytorch_lightning) (3.8.3)\n",
            "Requirement already satisfied: requests in /usr/local/lib/python3.7/dist-packages (from fsspec[http]>2021.06.0->pytorch_lightning) (2.23.0)\n",
            "Requirement already satisfied: aiosignal>=1.1.2 in /usr/local/lib/python3.7/dist-packages (from aiohttp!=4.0.0a0,!=4.0.0a1->fsspec[http]>2021.06.0->pytorch_lightning) (1.3.1)\n",
            "Requirement already satisfied: async-timeout<5.0,>=4.0.0a3 in /usr/local/lib/python3.7/dist-packages (from aiohttp!=4.0.0a0,!=4.0.0a1->fsspec[http]>2021.06.0->pytorch_lightning) (4.0.2)\n",
            "Requirement already satisfied: charset-normalizer<3.0,>=2.0 in /usr/local/lib/python3.7/dist-packages (from aiohttp!=4.0.0a0,!=4.0.0a1->fsspec[http]>2021.06.0->pytorch_lightning) (2.1.1)\n",
            "Requirement already satisfied: yarl<2.0,>=1.0 in /usr/local/lib/python3.7/dist-packages (from aiohttp!=4.0.0a0,!=4.0.0a1->fsspec[http]>2021.06.0->pytorch_lightning) (1.8.1)\n",
            "Requirement already satisfied: asynctest==0.13.0 in /usr/local/lib/python3.7/dist-packages (from aiohttp!=4.0.0a0,!=4.0.0a1->fsspec[http]>2021.06.0->pytorch_lightning) (0.13.0)\n",
            "Requirement already satisfied: attrs>=17.3.0 in /usr/local/lib/python3.7/dist-packages (from aiohttp!=4.0.0a0,!=4.0.0a1->fsspec[http]>2021.06.0->pytorch_lightning) (22.1.0)\n",
            "Requirement already satisfied: multidict<7.0,>=4.5 in /usr/local/lib/python3.7/dist-packages (from aiohttp!=4.0.0a0,!=4.0.0a1->fsspec[http]>2021.06.0->pytorch_lightning) (6.0.2)\n",
            "Requirement already satisfied: frozenlist>=1.1.1 in /usr/local/lib/python3.7/dist-packages (from aiohttp!=4.0.0a0,!=4.0.0a1->fsspec[http]>2021.06.0->pytorch_lightning) (1.3.3)\n",
            "Requirement already satisfied: pyparsing!=3.0.5,>=2.0.2 in /usr/local/lib/python3.7/dist-packages (from packaging>=17.0->pytorch_lightning) (3.0.9)\n",
            "Requirement already satisfied: protobuf<=3.20.1,>=3.8.0 in /usr/local/lib/python3.7/dist-packages (from tensorboardX>=2.2->pytorch_lightning) (3.19.6)\n",
            "Requirement already satisfied: idna>=2.0 in /usr/local/lib/python3.7/dist-packages (from yarl<2.0,>=1.0->aiohttp!=4.0.0a0,!=4.0.0a1->fsspec[http]>2021.06.0->pytorch_lightning) (2.10)\n",
            "Requirement already satisfied: six in /usr/local/lib/python3.7/dist-packages (from fire->lightning-utilities==0.3.*->pytorch_lightning) (1.15.0)\n",
            "Requirement already satisfied: termcolor in /usr/local/lib/python3.7/dist-packages (from fire->lightning-utilities==0.3.*->pytorch_lightning) (2.1.0)\n",
            "Requirement already satisfied: certifi>=2017.4.17 in /usr/local/lib/python3.7/dist-packages (from requests->fsspec[http]>2021.06.0->pytorch_lightning) (2022.9.24)\n",
            "Requirement already satisfied: chardet<4,>=3.0.2 in /usr/local/lib/python3.7/dist-packages (from requests->fsspec[http]>2021.06.0->pytorch_lightning) (3.0.4)\n",
            "Requirement already satisfied: urllib3!=1.25.0,!=1.25.1,<1.26,>=1.21.1 in /usr/local/lib/python3.7/dist-packages (from requests->fsspec[http]>2021.06.0->pytorch_lightning) (1.24.3)\n",
            "Building wheels for collected packages: fire\n",
            "  Building wheel for fire (setup.py) ... \u001b[?25l\u001b[?25hdone\n",
            "  Created wheel for fire: filename=fire-0.4.0-py2.py3-none-any.whl size=115943 sha256=abcfd2ecf2b9fb6036f43602332933210c3a91595790970ef18852b6a57ab113\n",
            "  Stored in directory: /root/.cache/pip/wheels/8a/67/fb/2e8a12fa16661b9d5af1f654bd199366799740a85c64981226\n",
            "Successfully built fire\n",
            "Installing collected packages: fire, torchmetrics, tensorboardX, lightning-utilities, pytorch-lightning\n",
            "Successfully installed fire-0.4.0 lightning-utilities-0.3.0 pytorch-lightning-1.8.3.post1 tensorboardX-2.5.1 torchmetrics-0.10.3\n"
          ]
        }
      ]
    },
    {
      "cell_type": "code",
      "source": [
        "from mingpt.model import GPT\n",
        "from mingpt.trainer import Trainer\n",
        "class Module(pl.LightningModule):\n",
        "\tdef __init__(self):\n",
        "\t\tsuper().__init__()\n",
        "\t\tmodel_config = GPT.get_default_config()\n",
        "\t\tmodel_config.model_type = 'gpt2'\n",
        "\t\tmodel_config.vocab_size =len(vocab) # openai's model vocabulary\n",
        "\t\tmodel_config.block_size = 768\n",
        "\t\ttrain_config = Trainer.get_default_config()\n",
        "\t\ttrain_config.learning_rate = 5e-4 # many possible options, see the file\n",
        "\t\tself.model = GPT(model_config)\n",
        "\t\tself.tconf = train_config\n",
        "\n",
        "\tdef forward(self, x):\n",
        "\t\t# print(x)\n",
        "\t\tsalidaMod=self.model(x)\n",
        "\t\t# print(salidaMod)\n",
        "\t\treturn salidaMod[0]\n",
        "\n",
        "\tdef training_step(self, batch, batch_idx):\n",
        "\t\t# print(batch)\n",
        "\t\t# print(*batch[0].size())\n",
        "\t\ty, loss = self.model(*batch)\n",
        "\t\tself.log(\"train/loss\", loss)\n",
        "\t\tself.log('loss_train',loss,on_step=True, prog_bar=True, logger=True)\n",
        "\t\treturn loss \n",
        "\n",
        "\tdef validation_step(self, batch, batch_idx):\n",
        "\t\ty, loss = self.model(*batch)\n",
        "\t\t# print(loss)\n",
        "\t\tself.log('val_loss', loss.item(),on_step=True, prog_bar=True, logger=True)\n",
        "\n",
        "\tdef configure_optimizers(self):\n",
        "\t\treturn self.model.configure_optimizers(self.tconf)"
      ],
      "metadata": {
        "id": "UG7E3R9JKNed"
      },
      "execution_count": null,
      "outputs": []
    },
    {
      "cell_type": "code",
      "source": [
        "# from mingpt.model import GPT\n",
        "# model_config = GPT.get_default_config()\n",
        "# model_config.model_type = 'gpt2'\n",
        "# model_config.vocab_size =len(vocab) # openai's model vocabulary\n",
        "# model_config.block_size = 1024 \n",
        "\n",
        "\n",
        "# model = GPT(model_config)\n",
        "\n",
        "# model"
      ],
      "metadata": {
        "id": "TuOD_gRC1XSh"
      },
      "execution_count": null,
      "outputs": []
    },
    {
      "cell_type": "code",
      "source": [
        "# from mingpt.trainer import Trainer\n",
        "# train_config = Trainer.get_default_config()\n",
        "# train_config.learning_rate = 5e-4 # many possible options, see the file\n",
        "# train_config.batch_size=2\n",
        "# module=Module(model,train_config)"
      ],
      "metadata": {
        "id": "WGhXh5stXAUL"
      },
      "execution_count": null,
      "outputs": []
    },
    {
      "cell_type": "code",
      "source": [
        "from pytorch_lightning.loggers import WandbLogger\n",
        "from pytorch_lightning.callbacks import ModelCheckpoint\n",
        "\n",
        "wandb_logger = WandbLogger(project=\"proyecto2\")\n",
        "\n",
        "\n",
        "module=Module()\n",
        "trainer = pl.Trainer(\n",
        "\tgpus=1,\n",
        "\tprecision=16,\n",
        "\tmax_epochs=15,\n",
        "\tlogger=wandb_logger,\n",
        "\t\n",
        ")\n",
        "\n",
        "trainer.fit(module, dataSetEntre.train_dataloader(),dataSetEntre.valid_dataloader())\n",
        "trainer.save_checkpoint(\"../../modelo/guardarModelo/Epoch15.ckpt\")"
      ],
      "metadata": {
        "colab": {
          "base_uri": "https://localhost:8080/",
          "height": 451,
          "referenced_widgets": [
            "c199e2fad0c641109c68cf683e990ef3",
            "8c04492a79df4f56b1bbc5ac3d0c8c6b",
            "7f0d0702884d49f6b3e18ba8e84ac87f",
            "3c84c72dd3b449388de8ff2b871d38ea",
            "035b4e919b1f45f19ee46ac01cdc27ac",
            "91a8ccfc9d904fe9a110127ea82f7647",
            "70e8781c071e4928905f378280621bc1",
            "a179d5747f3a44fb8c7200ea8204b248",
            "c10ef590cab3405a995bcbdb9181098f",
            "964df13a96204f32b285f5bbe58e7e08",
            "15ec6cb5aee342589e6ec1189171d003"
          ]
        },
        "id": "GwImDG02XQXj",
        "outputId": "532b7dbe-164f-403b-c71f-2601c02fea80"
      },
      "execution_count": null,
      "outputs": [
        {
          "output_type": "stream",
          "name": "stderr",
          "text": [
            "/usr/local/lib/python3.7/dist-packages/pytorch_lightning/trainer/connectors/accelerator_connector.py:447: LightningDeprecationWarning: Setting `Trainer(gpus=1)` is deprecated in v1.7 and will be removed in v2.0. Please use `Trainer(accelerator='gpu', devices=1)` instead.\n",
            "  f\"Setting `Trainer(gpus={gpus!r})` is deprecated in v1.7 and will be removed\"\n",
            "INFO:pytorch_lightning.utilities.rank_zero:GPU available: True (cuda), used: True\n",
            "INFO:pytorch_lightning.utilities.rank_zero:TPU available: False, using: 0 TPU cores\n",
            "INFO:pytorch_lightning.utilities.rank_zero:IPU available: False, using: 0 IPUs\n",
            "INFO:pytorch_lightning.utilities.rank_zero:HPU available: False, using: 0 HPUs\n",
            "/usr/local/lib/python3.7/dist-packages/pytorch_lightning/trainer/configuration_validator.py:110: PossibleUserWarning: You defined a `validation_step` but have no `val_dataloader`. Skipping val loop.\n",
            "  category=PossibleUserWarning,\n",
            "WARNING:pytorch_lightning.loggers.tensorboard:Missing logger folder: ../../modelo/lightning_logs\n",
            "INFO:pytorch_lightning.accelerators.cuda:LOCAL_RANK: 0 - CUDA_VISIBLE_DEVICES: [0]\n",
            "INFO:pytorch_lightning.callbacks.model_summary:\n",
            "  | Name  | Type | Params\n",
            "-------------------------------\n",
            "0 | model | GPT  | 86.1 M\n",
            "-------------------------------\n",
            "86.1 M    Trainable params\n",
            "0         Non-trainable params\n",
            "86.1 M    Total params\n",
            "344.236   Total estimated model params size (MB)\n",
            "/usr/local/lib/python3.7/dist-packages/pytorch_lightning/trainer/trainer.py:1562: PossibleUserWarning: The number of training batches (12) is smaller than the logging interval Trainer(log_every_n_steps=50). Set a lower value for log_every_n_steps if you want to see logs for the training epoch.\n",
            "  category=PossibleUserWarning,\n"
          ]
        },
        {
          "output_type": "display_data",
          "data": {
            "text/plain": [
              "Training: 0it [00:00, ?it/s]"
            ],
            "application/vnd.jupyter.widget-view+json": {
              "version_major": 2,
              "version_minor": 0,
              "model_id": "c199e2fad0c641109c68cf683e990ef3"
            }
          },
          "metadata": {}
        },
        {
          "output_type": "stream",
          "name": "stderr",
          "text": [
            "INFO:pytorch_lightning.utilities.rank_zero:`Trainer.fit` stopped: `max_epochs=10` reached.\n"
          ]
        }
      ]
    },
    {
      "cell_type": "code",
      "source": [
        "entr=input[:300].expand(1,-1)[0]\n",
        "entr"
      ],
      "metadata": {
        "colab": {
          "base_uri": "https://localhost:8080/"
        },
        "id": "XgUMPpK-Hhdu",
        "outputId": "acadb678-aed1-48ef-a238-d028a105ff1e"
      },
      "execution_count": null,
      "outputs": [
        {
          "output_type": "execute_result",
          "data": {
            "text/plain": [
              "tensor([  1,  51,  47,  38, 107,   3, 111,   4, 111,   3,  19, 111,   3,  21,\n",
              "        111,   4, 109,   3, 111,   4, 109,   4, 111,   3, 109,   3, 111,   3,\n",
              "        113,   3, 114,   8,  26,   4, 106,   3, 109,   4, 109,   3,  19, 109,\n",
              "          3,  21, 109,   4, 111,   3, 109,   5, 104,   3, 106,   3, 104,   3,\n",
              "        103,   3, 106,   3, 104,   6,  26,   6,  30,  29, 104,   3, 107,   4,\n",
              "        107,   3,  19, 107,   3,  21, 107,   4, 106,   3, 107,   4, 106,   4,\n",
              "        107,   3, 106,   3, 107,   3, 109,   3, 111,   8,  26,   4, 106,   3,\n",
              "        109,   4, 109,   3,  19, 109,   3,  21, 109,   4, 111,   3, 109,   5,\n",
              "        106,   3, 106,   3, 104,   3, 103,   3, 106,   3,  22,  27, 104,   8,\n",
              "         26,   4,  30,  23,  27,  24, 104,   5, 111,   3,  19, 111,   3,  21,\n",
              "        111,   4, 109,   3,  27,  25,  29, 111,   3, 111,   4, 109,   3, 111,\n",
              "          5, 109,   3, 111,   8,  26,   4, 106,   3, 109,   4, 109,   3,  19,\n",
              "        109,   3,  21, 109,   4, 111,   3, 109,   5, 106,   3, 106,   3, 104,\n",
              "          3, 103,   3, 106,   3,  22,  27, 104,   5, 111,   3,  19, 111,   3,\n",
              "         21, 111,   4, 109,   3,  30,  23,  27,  24, 104,   4, 104,   4, 104,\n",
              "          3, 102,   3,  99,   4,  27,  25,  29, 116,   3, 116,   3, 114,   3,\n",
              "        114,   3, 111,   3, 111,   3, 109,   3, 111,   3, 114,   8,  26,   4,\n",
              "        109,   3, 111,   3, 114,   3, 109,   3, 111,   3, 114,   3, 109,   3,\n",
              "        107,   3, 104,   8,  26,   4,  30,  29, 104,   3, 107,   4, 107,   3,\n",
              "         19, 107,   3,  21, 107,   4, 106,   3, 107,   4, 106,   4, 107,   3,\n",
              "        106,   3, 107,   3, 109,   3, 111,   8,  26,   4, 106,   3, 109,   4,\n",
              "        109,   3,  19, 109,   3,  21])"
            ]
          },
          "metadata": {},
          "execution_count": 23
        }
      ]
    },
    {
      "cell_type": "code",
      "source": [
        "from mingpt.trainer import Trainer\n",
        "train_config2 = Trainer.get_default_config()\n",
        "train_config2.learning_rate = 5e-4 # many possible options, see the file\n",
        "train_config2.batch_size=1\n",
        "model = Module.load_from_checkpoint(\"../../modelo/lightning_logs/version_0/checkpoints/epoch=9-step=120.ckpt\")\n",
        "\n",
        "# disable randomness, dropout, etc...\n",
        "model.eval()\n",
        "new_words = 15\n",
        "entr=input[:300].expand(1,-1)[0]\n",
        "y = model.generate(entr, new_words)\n",
        "\n",
        "y "
      ],
      "metadata": {
        "colab": {
          "base_uri": "https://localhost:8080/",
          "height": 380
        },
        "id": "c-vlFw6m5-Rv",
        "outputId": "5f81bef5-748d-42a7-ff52-a3f5a6fff5b8"
      },
      "execution_count": null,
      "outputs": [
        {
          "output_type": "error",
          "ename": "TypeError",
          "evalue": "ignored",
          "traceback": [
            "\u001b[0;31m---------------------------------------------------------------------------\u001b[0m",
            "\u001b[0;31mTypeError\u001b[0m                                 Traceback (most recent call last)",
            "\u001b[0;32m<ipython-input-27-a583bc035352>\u001b[0m in \u001b[0;36m<module>\u001b[0;34m\u001b[0m\n\u001b[1;32m      3\u001b[0m \u001b[0mtrain_config2\u001b[0m\u001b[0;34m.\u001b[0m\u001b[0mlearning_rate\u001b[0m \u001b[0;34m=\u001b[0m \u001b[0;36m5e-4\u001b[0m \u001b[0;31m# many possible options, see the file\u001b[0m\u001b[0;34m\u001b[0m\u001b[0;34m\u001b[0m\u001b[0m\n\u001b[1;32m      4\u001b[0m \u001b[0mtrain_config2\u001b[0m\u001b[0;34m.\u001b[0m\u001b[0mbatch_size\u001b[0m\u001b[0;34m=\u001b[0m\u001b[0;36m1\u001b[0m\u001b[0;34m\u001b[0m\u001b[0;34m\u001b[0m\u001b[0m\n\u001b[0;32m----> 5\u001b[0;31m \u001b[0mmodel\u001b[0m \u001b[0;34m=\u001b[0m \u001b[0mModule\u001b[0m\u001b[0;34m.\u001b[0m\u001b[0mload_from_checkpoint\u001b[0m\u001b[0;34m(\u001b[0m\u001b[0;34m\"../../modelo/lightning_logs/version_0/checkpoints/epoch=9-step=120.ckpt\"\u001b[0m\u001b[0;34m)\u001b[0m\u001b[0;34m\u001b[0m\u001b[0;34m\u001b[0m\u001b[0m\n\u001b[0m\u001b[1;32m      6\u001b[0m \u001b[0;34m\u001b[0m\u001b[0m\n\u001b[1;32m      7\u001b[0m \u001b[0;31m# disable randomness, dropout, etc...\u001b[0m\u001b[0;34m\u001b[0m\u001b[0;34m\u001b[0m\u001b[0;34m\u001b[0m\u001b[0m\n",
            "\u001b[0;32m/usr/local/lib/python3.7/dist-packages/pytorch_lightning/core/saving.py\u001b[0m in \u001b[0;36mload_from_checkpoint\u001b[0;34m(cls, checkpoint_path, map_location, hparams_file, strict, **kwargs)\u001b[0m\n\u001b[1;32m    141\u001b[0m             \u001b[0mhparams_file\u001b[0m\u001b[0;34m,\u001b[0m\u001b[0;34m\u001b[0m\u001b[0;34m\u001b[0m\u001b[0m\n\u001b[1;32m    142\u001b[0m             \u001b[0mstrict\u001b[0m\u001b[0;34m,\u001b[0m\u001b[0;34m\u001b[0m\u001b[0;34m\u001b[0m\u001b[0m\n\u001b[0;32m--> 143\u001b[0;31m             \u001b[0;34m**\u001b[0m\u001b[0mkwargs\u001b[0m\u001b[0;34m,\u001b[0m\u001b[0;34m\u001b[0m\u001b[0;34m\u001b[0m\u001b[0m\n\u001b[0m\u001b[1;32m    144\u001b[0m         )\n\u001b[1;32m    145\u001b[0m \u001b[0;34m\u001b[0m\u001b[0m\n",
            "\u001b[0;32m/usr/local/lib/python3.7/dist-packages/pytorch_lightning/core/saving.py\u001b[0m in \u001b[0;36m_load_from_checkpoint\u001b[0;34m(cls, checkpoint_path, map_location, hparams_file, strict, **kwargs)\u001b[0m\n\u001b[1;32m    178\u001b[0m         \u001b[0;32mreturn\u001b[0m \u001b[0m_load_state\u001b[0m\u001b[0;34m(\u001b[0m\u001b[0mcls\u001b[0m\u001b[0;34m,\u001b[0m \u001b[0mcheckpoint\u001b[0m\u001b[0;34m,\u001b[0m \u001b[0;34m**\u001b[0m\u001b[0mkwargs\u001b[0m\u001b[0;34m)\u001b[0m\u001b[0;34m\u001b[0m\u001b[0;34m\u001b[0m\u001b[0m\n\u001b[1;32m    179\u001b[0m     \u001b[0;32mif\u001b[0m \u001b[0missubclass\u001b[0m\u001b[0;34m(\u001b[0m\u001b[0mcls\u001b[0m\u001b[0;34m,\u001b[0m \u001b[0mpl\u001b[0m\u001b[0;34m.\u001b[0m\u001b[0mLightningModule\u001b[0m\u001b[0;34m)\u001b[0m\u001b[0;34m:\u001b[0m\u001b[0;34m\u001b[0m\u001b[0;34m\u001b[0m\u001b[0m\n\u001b[0;32m--> 180\u001b[0;31m         \u001b[0;32mreturn\u001b[0m \u001b[0m_load_state\u001b[0m\u001b[0;34m(\u001b[0m\u001b[0mcls\u001b[0m\u001b[0;34m,\u001b[0m \u001b[0mcheckpoint\u001b[0m\u001b[0;34m,\u001b[0m \u001b[0mstrict\u001b[0m\u001b[0;34m=\u001b[0m\u001b[0mstrict\u001b[0m\u001b[0;34m,\u001b[0m \u001b[0;34m**\u001b[0m\u001b[0mkwargs\u001b[0m\u001b[0;34m)\u001b[0m\u001b[0;34m\u001b[0m\u001b[0;34m\u001b[0m\u001b[0m\n\u001b[0m\u001b[1;32m    181\u001b[0m     \u001b[0;32mraise\u001b[0m \u001b[0mNotImplementedError\u001b[0m\u001b[0;34m(\u001b[0m\u001b[0;34mf\"Unsupported {cls}\"\u001b[0m\u001b[0;34m)\u001b[0m\u001b[0;34m\u001b[0m\u001b[0;34m\u001b[0m\u001b[0m\n\u001b[1;32m    182\u001b[0m \u001b[0;34m\u001b[0m\u001b[0m\n",
            "\u001b[0;32m/usr/local/lib/python3.7/dist-packages/pytorch_lightning/core/saving.py\u001b[0m in \u001b[0;36m_load_state\u001b[0;34m(cls, checkpoint, strict, **cls_kwargs_new)\u001b[0m\n\u001b[1;32m    223\u001b[0m         \u001b[0m_cls_kwargs\u001b[0m \u001b[0;34m=\u001b[0m \u001b[0;34m{\u001b[0m\u001b[0mk\u001b[0m\u001b[0;34m:\u001b[0m \u001b[0mv\u001b[0m \u001b[0;32mfor\u001b[0m \u001b[0mk\u001b[0m\u001b[0;34m,\u001b[0m \u001b[0mv\u001b[0m \u001b[0;32min\u001b[0m \u001b[0m_cls_kwargs\u001b[0m\u001b[0;34m.\u001b[0m\u001b[0mitems\u001b[0m\u001b[0;34m(\u001b[0m\u001b[0;34m)\u001b[0m \u001b[0;32mif\u001b[0m \u001b[0mk\u001b[0m \u001b[0;32min\u001b[0m \u001b[0mcls_init_args_name\u001b[0m\u001b[0;34m}\u001b[0m\u001b[0;34m\u001b[0m\u001b[0;34m\u001b[0m\u001b[0m\n\u001b[1;32m    224\u001b[0m \u001b[0;34m\u001b[0m\u001b[0m\n\u001b[0;32m--> 225\u001b[0;31m     \u001b[0mobj\u001b[0m \u001b[0;34m=\u001b[0m \u001b[0mcls\u001b[0m\u001b[0;34m(\u001b[0m\u001b[0;34m**\u001b[0m\u001b[0m_cls_kwargs\u001b[0m\u001b[0;34m)\u001b[0m\u001b[0;34m\u001b[0m\u001b[0;34m\u001b[0m\u001b[0m\n\u001b[0m\u001b[1;32m    226\u001b[0m \u001b[0;34m\u001b[0m\u001b[0m\n\u001b[1;32m    227\u001b[0m     \u001b[0;32mif\u001b[0m \u001b[0misinstance\u001b[0m\u001b[0;34m(\u001b[0m\u001b[0mobj\u001b[0m\u001b[0;34m,\u001b[0m \u001b[0mpl\u001b[0m\u001b[0;34m.\u001b[0m\u001b[0mLightningModule\u001b[0m\u001b[0;34m)\u001b[0m\u001b[0;34m:\u001b[0m\u001b[0;34m\u001b[0m\u001b[0;34m\u001b[0m\u001b[0m\n",
            "\u001b[0;31mTypeError\u001b[0m: __init__() missing 2 required positional arguments: 'model' and 'tconf'"
          ]
        }
      ]
    },
    {
      "cell_type": "code",
      "source": [
        "model.eval()"
      ],
      "metadata": {
        "id": "UrFGPnKFVAZo"
      },
      "execution_count": null,
      "outputs": []
    },
    {
      "cell_type": "code",
      "source": [
        "new_words = 15\n",
        "entr=input[:300].expand(1,-1)\n",
        "y = model.generate(entr, new_words)\n",
        "\n",
        "y "
      ],
      "metadata": {
        "colab": {
          "base_uri": "https://localhost:8080/"
        },
        "id": "k0jsASRSTYEo",
        "outputId": "c24a207b-b8ff-42ba-a261-f62259f4ac91"
      },
      "execution_count": null,
      "outputs": [
        {
          "output_type": "execute_result",
          "data": {
            "text/plain": [
              "tensor([[  1,  45,  34,  41, 103,   3, 107,   4, 107,   3,  19, 107,   3, 107,\n",
              "           4, 105,   3, 107,   4, 105,   4, 107,   3, 105,   3, 107,   3, 109,\n",
              "           3, 110,   8,  20,   4, 102,   3, 105,   4, 105,   3, 105,   3, 105,\n",
              "           4, 107,   3, 105,   5, 100,   3, 102,   3, 100,   3,  99,   3, 102,\n",
              "           3, 100,   6,  20,   6,  24,  23, 100,   3, 103,   4, 103,   3, 103,\n",
              "           3, 103,   4, 102,   3, 103,   4, 102,   4, 103,   3, 102,   3, 103,\n",
              "           3, 105,   3, 107,   8,  20,   4, 102,   3, 105,   4, 105,   3, 105,\n",
              "           3, 105,   4, 107,   3, 105,   5, 102,   3, 102,   3, 100,   3,  99,\n",
              "           3, 102,   3,  21, 100,   8,  20,   4,  24,  21, 100,   5, 107,   3,\n",
              "         107,   3, 107,   4, 105,   3,  21,  23, 107,   3, 107,   4, 105,   3,\n",
              "         107,   5, 105,   3, 107,   8,  20,   4, 102,   3, 105,   4, 105,   3,\n",
              "         105,   3, 105,   4, 107,   3, 105,   5, 102,   3, 102,   3, 100,   3,\n",
              "          99,   3, 102,   3,  21, 100,   5, 107,   3, 107,   3, 107,   4, 105,\n",
              "           3,  24,  21, 100,   4, 100,   4, 100,   3,  98,   3,  95,   4,  21,\n",
              "          23, 112,   3, 112,   3, 110,   3, 110,   3, 107,   3, 107,   3, 105,\n",
              "           3, 107,   3, 110,   8,  20,   4, 105,   3, 107,   3, 110,   3, 105,\n",
              "           3, 107,   3, 110,   3, 105,   3, 103,   3, 100,   8,  20,   4,  24,\n",
              "          23, 100,   3, 103,   4, 103,   3, 103,   3, 103,   4, 102,   3, 103,\n",
              "           4, 102,   4, 103,   3, 102,   3, 103,   3, 105,   3, 107,   8,  20,\n",
              "           4, 102,   3, 105,   4, 105,   3, 105,   3, 105,   4, 107,   3, 105,\n",
              "           5, 102,   3, 102,   3, 100,   3,  99,   3, 102,   3,  21, 100,   8,\n",
              "          20,   4,  24,  21, 100,   4, 100,   4, 100,   3,  98,   3,  95,   4,\n",
              "          22,   2,   0,   0,   0,   0,   0]])"
            ]
          },
          "metadata": {},
          "execution_count": 41
        }
      ]
    },
    {
      "cell_type": "code",
      "source": [
        "print(target[:315])"
      ],
      "metadata": {
        "colab": {
          "base_uri": "https://localhost:8080/"
        },
        "id": "RYAlFcKycyQ_",
        "outputId": "5f43ba17-8bc5-4d3d-9440-54992db960d1"
      },
      "execution_count": null,
      "outputs": [
        {
          "output_type": "stream",
          "name": "stdout",
          "text": [
            "tensor([ 45,  34,  41, 103,   3, 107,   4, 107,   3,  19, 107,   3, 107,   4,\n",
            "        105,   3, 107,   4, 105,   4, 107,   3, 105,   3, 107,   3, 109,   3,\n",
            "        110,   8,  20,   4, 102,   3, 105,   4, 105,   3, 105,   3, 105,   4,\n",
            "        107,   3, 105,   5, 100,   3, 102,   3, 100,   3,  99,   3, 102,   3,\n",
            "        100,   6,  20,   6,  24,  23, 100,   3, 103,   4, 103,   3, 103,   3,\n",
            "        103,   4, 102,   3, 103,   4, 102,   4, 103,   3, 102,   3, 103,   3,\n",
            "        105,   3, 107,   8,  20,   4, 102,   3, 105,   4, 105,   3, 105,   3,\n",
            "        105,   4, 107,   3, 105,   5, 102,   3, 102,   3, 100,   3,  99,   3,\n",
            "        102,   3,  21, 100,   8,  20,   4,  24,  21, 100,   5, 107,   3, 107,\n",
            "          3, 107,   4, 105,   3,  21,  23, 107,   3, 107,   4, 105,   3, 107,\n",
            "          5, 105,   3, 107,   8,  20,   4, 102,   3, 105,   4, 105,   3, 105,\n",
            "          3, 105,   4, 107,   3, 105,   5, 102,   3, 102,   3, 100,   3,  99,\n",
            "          3, 102,   3,  21, 100,   5, 107,   3, 107,   3, 107,   4, 105,   3,\n",
            "         24,  21, 100,   4, 100,   4, 100,   3,  98,   3,  95,   4,  21,  23,\n",
            "        112,   3, 112,   3, 110,   3, 110,   3, 107,   3, 107,   3, 105,   3,\n",
            "        107,   3, 110,   8,  20,   4, 105,   3, 107,   3, 110,   3, 105,   3,\n",
            "        107,   3, 110,   3, 105,   3, 103,   3, 100,   8,  20,   4,  24,  23,\n",
            "        100,   3, 103,   4, 103,   3, 103,   3, 103,   4, 102,   3, 103,   4,\n",
            "        102,   4, 103,   3, 102,   3, 103,   3, 105,   3, 107,   8,  20,   4,\n",
            "        102,   3, 105,   4, 105,   3, 105,   3, 105,   4, 107,   3, 105,   5,\n",
            "        102,   3, 102,   3, 100,   3,  99,   3, 102,   3,  21, 100,   8,  20,\n",
            "          4,  24,  21, 100,   4, 100,   4, 100,   3,  98,   3,  95,   4,  22,\n",
            "          2,   0,   0,   0,   0,   0,   0])\n"
          ]
        }
      ]
    },
    {
      "cell_type": "code",
      "source": [
        "partitura=[ 51, 48, 45, 109, 3, 108, 3, 106, 4, 104, 3, 104, 4, 101, 3, 109, 3, 108,\n",
        "            3, 106, 4, 104, 3, 104, 4, 101, 3, 111, 3, 111, 3, 111, 4, 109, 3, 109, 4,\n",
        "            106, 3, 111, 3, 111, 3, 111, 4, 113, 4, 111, 3, 109, 3, 106, 6, 30, 29, 104,\n",
        "            3, 104, 3, 104, 3, 104, 3, 19, 104, 4, 21, 104, 4, 113, 3, 113, 3, 111, 3, 109,\n",
        "            3, 19, 109, 4, 21, 106, 4, 104, 3, 104, 3, 104, 4, 104, 4, 113, 3, 111, 3, 113, 6,\n",
        "            19, 113, 4, 21, 26, 4, 111, 3, 111, 3, 111, 4, 109, 3, 109, 4, 106, 3, 111, 3, 111,\n",
        "            3, 111, 4, 109, 3, 109, 4, 106, 3, 111, 3, 111, 3, 111, 4, 113, 4, 111, 3, 109, 3, 22,\n",
        "            27, 106, 6, 19, 106, 4, 21, 26, 4, 30, 23, 27, 24, 106, 4, 106, 4, 106, 3, 104, 3, 101,\n",
        "            4, 28, 25, ]"
      ],
      "metadata": {
        "id": "Q0lubDILIBRn"
      },
      "execution_count": null,
      "outputs": []
    },
    {
      "cell_type": "code",
      "source": [
        "!pip list"
      ],
      "metadata": {
        "id": "zcpi771c-kkP"
      },
      "execution_count": null,
      "outputs": []
    },
    {
      "cell_type": "code",
      "source": [
        "#Instalaciones de paquetes\n",
        "!pip install --upgrade music21"
      ],
      "metadata": {
        "id": "wGFMV2OV-Aqo"
      },
      "execution_count": null,
      "outputs": []
    },
    {
      "cell_type": "code",
      "source": [
        "!add-apt-repository ppa:mscore-ubuntu/mscore-stable -y\n",
        "!apt-get update\n",
        "!apt-get install musescore"
      ],
      "metadata": {
        "id": "k_2Od1u_-FBP"
      },
      "execution_count": null,
      "outputs": []
    },
    {
      "cell_type": "code",
      "source": [
        "!apt-get install xvfb"
      ],
      "metadata": {
        "id": "juyU37SV-H4X"
      },
      "execution_count": null,
      "outputs": []
    },
    {
      "cell_type": "code",
      "source": [
        "from music21 import *\n",
        "us = environment.UserSettings()\n",
        "us['musescoreDirectPNGPath'] = '/usr/bin/mscore'\n",
        "us['directoryScratch'] = '/tmp'\n"
      ],
      "metadata": {
        "id": "VqTgh6qE-Qsd"
      },
      "execution_count": null,
      "outputs": []
    },
    {
      "cell_type": "code",
      "source": [
        "\n",
        "from music21 import *\n",
        "import music21 as m21\n",
        "def graficarPartitura2(notas,titulo,vocabReves):\n",
        "  score = stream.Score()\n",
        "  partStream = stream.Part()\n",
        "  score.insert(0, metadata.Metadata())\n",
        "  listaLLaves={}\n",
        "  acumLlaves=[]\n",
        "  acumulador=[]\n",
        "  for i in range(0,len(notas)):\n",
        "    acumNotas=None\n",
        "    notaNumero=int(notas[i])\n",
        "    notaLetra=str(notas[i])\n",
        "    if notaNumero in range(31,45+1):\n",
        "      song_key = key.Key(key.sharpsToPitch(int(vocabReves[notaLetra]))) #asigna el numero de # o bemol\n",
        "      partStream.insert(0, song_key)\n",
        "      # song_key.octave = 4 # moverse hasta la 4ta octava alrededor del C central\n",
        "      score.metadata.title = titulo+\" %s\" % song_key.name\n",
        "    if notaNumero in range(46,50+1):\n",
        "      partStream.append(meter.TimeSignature(vocabReves[notaLetra]))#asigna el compas 2/4\n",
        "    if notaNumero in range(53,140+1):\n",
        "      if int(notas[i+1])in range(3,18+1):\n",
        "        if int(notas[i+2]) in [19,20,21]:\n",
        "          acumNotas=note.Note(int(vocabReves[notaLetra]),quarterLength=float(vocabReves[str(notas[i+1])]))\n",
        "          if int(notas[i+2]) ==19:\n",
        "            acumNotas.tie=tie.Tie('start')\n",
        "          elif int(notas[i+2]) ==20:\n",
        "            acumNotas.tie=tie.Tie('continue')\n",
        "          if int(notas[i+2]) ==21:\n",
        "            acumNotas.tie=tie.Tie('stop')\n",
        "          \n",
        "        else:\n",
        "          acumNotas=note.Note(int(vocabReves[notaLetra]),quarterLength=float(vocabReves[str(notas[i+1])]))\n",
        "          \n",
        "    if notaNumero==26:\n",
        "      if int(notas[i+1]) in range(3,18+1):\n",
        "        acumNotas=note.Rest(quarterLength=float(vocabReves[str(notas[i+1])]))\n",
        "   \n",
        "    if acumNotas != None:\n",
        "      # measure.append(acumNotas)\n",
        "      acumulador.append(acumNotas)\n",
        "    \n",
        "    \n",
        "    \n",
        "\n",
        "    if notas[i]==27:\n",
        "      acumulador.append(bar.Barline(type='regular'))\n",
        "    if notas[i]==28:\n",
        "      acumulador.append(bar.Barline(type='final'))\n",
        "    if notas[i]==29:\n",
        "      acumulador.append(bar.Repeat(direction='start'))\n",
        "    if notas[i]==30:\n",
        "      acumulador.append(bar.Repeat(direction='end'))\n",
        "   \n",
        "    if notas[i-1] ==22:       \n",
        "      acumLlaves.append(acumulador[-1]) \n",
        "    elif notas[i] ==23:\n",
        "      acumLlaves.append(acumulador[-1])\n",
        "      listaLLaves[\"llave_\"+str(len(listaLLaves))+\"_1\"]=acumLlaves\n",
        "      acumLlaves=[]\n",
        "    if notas[i-1] ==24:       \n",
        "      acumLlaves.append(acumulador[-1])\n",
        "    elif notas[i] ==25:\n",
        "      acumLlaves.append(acumulador[-1])\n",
        "      listaLLaves[\"llave_\"+str(len(listaLLaves))+\"_2\"]=acumLlaves\n",
        "      acumLlaves=[]\n",
        "      \n",
        "  barras=[]\n",
        "  partStream.append(acumulador)\n",
        "  # partStream.show('text')\n",
        "  for  e in partStream:\n",
        "    if isinstance(e,m21.bar.Barline):\n",
        "      barras.append(e)\n",
        "                  \n",
        "  partStream.makeMeasures(inPlace=True)\n",
        "\n",
        "  part2=partStream.elements\n",
        "  for compas in part2:\n",
        "    # print(compas)\n",
        "    # print(compas.offset)\n",
        "    for bara in barras:\n",
        "      if compas.offset ==bara.offset:\n",
        "        if isinstance(bara,m21.bar.Repeat):\n",
        "          if \"start\"== bara.direction:\n",
        "            compas.leftBarline=bara\n",
        "          else:\n",
        "            num=compas.measureNumber\n",
        "            for i in part2:\n",
        "              if i.measureNumber == num-1:\n",
        "                i.rightBarline=bara\n",
        "        else:\n",
        "          compas.append(bara)\n",
        "  recComp=[]\n",
        "  listaBrakets=[]        \n",
        "  for compas in part2:\n",
        "    for lave in listaLLaves:\n",
        "      if listaLLaves[lave][0] in compas:\n",
        "        recComp.append(compas)\n",
        "        break\n",
        "      if listaLLaves[lave][1] in compas:\n",
        "        recComp.append(compas)\n",
        "        if lave[-1]==\"1\":\n",
        "          listaBrakets.append(spanner.RepeatBracket(recComp, number=1))\n",
        "        else:\n",
        "          listaBrakets.append(spanner.RepeatBracket(recComp, number=2))\n",
        "        recComp=[]\n",
        "        break\n",
        "      elif isinstance(listaLLaves[lave][1],m21.bar.Barline)and isinstance(compas[-1],m21.bar.Barline) and len(recComp)>0:  \n",
        "        if lave[-1]==\"2\":\n",
        "          recComp.append(compas)\n",
        "          listaBrakets.append(spanner.RepeatBracket(recComp, number=2))\n",
        "          recComp=[]\n",
        "          break\n",
        "          \n",
        "  for lis in listaBrakets:\n",
        "    part2[0].insert(0.0, lis)\n",
        "      \n",
        "  score.append(part2)\n",
        "  \n",
        "  # score.show('text')\n",
        "  # score.show('musicxml.png')\n",
        "  score.show()\n",
        "  score.expandRepeats()\n",
        "  score.show('midi')\n",
        "\n",
        "\n",
        "\n"
      ],
      "metadata": {
        "id": "6uCYMb3BmLvH"
      },
      "execution_count": null,
      "outputs": []
    },
    {
      "cell_type": "code",
      "source": [
        "graficarPartitura2(partitura,\"nombre\",vocabReves)"
      ],
      "metadata": {
        "colab": {
          "base_uri": "https://localhost:8080/",
          "height": 589
        },
        "id": "nC-GFTxL9_fY",
        "outputId": "f67caae3-2c12-4b99-c36f-0e7ffdbe86b8"
      },
      "execution_count": null,
      "outputs": [
        {
          "output_type": "stream",
          "name": "stderr",
          "text": [
            "/usr/local/lib/python3.7/dist-packages/music21/musicxml/m21ToXml.py:478: MusicXMLWarning: <music21.stream.Score 0x7f039e42f410> is not well-formed; see isWellFormedNotation()\n",
            "  category=MusicXMLWarning)\n"
          ]
        },
        {
          "output_type": "display_data",
          "data": {
            "image/png": "[encoded data removed]",
            "text/plain": [
              "<IPython.core.display.Image object>"
            ]
          },
          "metadata": {
            "image/png": {
              "width": 753,
              "height": 420
            }
          }
        },
        {
          "output_type": "display_data",
          "data": {
            "text/plain": [
              "<IPython.core.display.HTML object>"
            ],
            "text/html": [
              "\n",
              "                <div id='midiPlayerDiv9781'></div>\n",
              "                <link rel=\"stylesheet\" href=\"//cuthbertLab.github.io/music21j/css/m21.css\"\n",
              "                    type=\"text/css\" />\n",
              "                \n",
              "                    <script src=\"//cuthbertLab.github.io/music21j/ext/require/require.js\"\n",
              "                    ></script>\n",
              "                \n",
              "                <script>\n",
              "                require.config({\n",
              "                    paths: {'music21': '//cuthbertLab.github.io/music21j/src/music21'}\n",
              "                });\n",
              "                require(['music21'], function() {\n",
              "                               mp = new music21.miditools.MidiPlayer();\n",
              "                               mp.addPlayer('#midiPlayerDiv9781');\n",
              "                               mp.base64Load('data:audio/midi;base64,TVRoZAAAAAYAAQACBABNVHJrAAAAGgD/UQMHoSAA/1kCAAAA/1gEAgMYCIgA/y8ATVRyawAAAmIA/wMAAOAAQIgAkE1aggCATQAAkExaggCATAAAkEpahACASgAAkEhaggCASAAAkEhahACASAAAkEVaggCARQAAkE1aggCATQAAkExaggCATAAAkEpahACASgAAkEhaggCASAAAkEhahACASAAAkEVaggCARQAAkE9aggCATwAAkE9aggCATwAAkE9ahACATwAAkE1aggCATQAAkE1ahACATQAAkEpaggCASgAAkE9aggCATwAAkE9aggCATwAAkE9ahACATwAAkFFahACAUQAAkE9aggCATwAAkE1aggCATQAAkEpaiACASgAAkEhaggCASAAAkEhaggCASAAAkEhaggCASAAAkEhahgCASAAAkEhahACASAAAkFFaggCAUQAAkFFaggCAUQAAkE9aggCATwAAkE1ahgCATQAAkEpahACASgAAkEhaggCASAAAkEhaggCASAAAkEhahACASAAAkEhahACASAAAkFFaggCAUQAAkE9aggCATwAAkFFajACAUQCEAJBPWoIAgE8AAJBPWoIAgE8AAJBPWoQAgE8AAJBNWoIAgE0AAJBNWoQAgE0AAJBKWoIAgEoAAJBPWoIAgE8AAJBPWoIAgE8AAJBPWoQAgE8AAJBNWoIAgE0AAJBNWoQAgE0AAJBKWoIAgEoAAJBPWoIAgE8AAJBPWoIAgE8AAJBPWoQAgE8AAJBRWoQAgFEAAJBPWoIAgE8AAJBNWoIAgE0AAJBKWowAgEoAhACQSlqEAIBKAACQSlqEAIBKAACQSlqCAIBKAACQSFqCAIBIAACQRVqEAIBFAIgA/y8A');\n",
              "                        });\n",
              "                </script>"
            ]
          },
          "metadata": {}
        }
      ]
    }
  ]
}