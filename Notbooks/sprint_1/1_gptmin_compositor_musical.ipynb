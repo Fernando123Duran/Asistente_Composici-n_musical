{
  "nbformat": 4,
  "nbformat_minor": 0,
  "metadata": {
    "colab": {
      "provenance": []
    },
    "kernelspec": {
      "name": "python3",
      "display_name": "Python 3"
    },
    "language_info": {
      "name": "python"
    },
    "gpuClass": "standard",
    "widgets": {
      "application/vnd.jupyter.widget-state+json": {
        "6a8d60029f5c4fcfbacbdd613906e57f": {
          "model_module": "@jupyter-widgets/controls",
          "model_name": "HBoxModel",
          "model_module_version": "1.5.0",
          "state": {
            "_dom_classes": [],
            "_model_module": "@jupyter-widgets/controls",
            "_model_module_version": "1.5.0",
            "_model_name": "HBoxModel",
            "_view_count": null,
            "_view_module": "@jupyter-widgets/controls",
            "_view_module_version": "1.5.0",
            "_view_name": "HBoxView",
            "box_style": "",
            "children": [
              "IPY_MODEL_8eec4fbe259b4afc86e24285300ad6e3",
              "IPY_MODEL_11f38a57fd2544b2b2879e7855529067",
              "IPY_MODEL_fb67dfba63534660b6413e444d619470"
            ],
            "layout": "IPY_MODEL_67a14c6c66ba4d0dbea5f0092b1340eb"
          }
        },
        "8eec4fbe259b4afc86e24285300ad6e3": {
          "model_module": "@jupyter-widgets/controls",
          "model_name": "HTMLModel",
          "model_module_version": "1.5.0",
          "state": {
            "_dom_classes": [],
            "_model_module": "@jupyter-widgets/controls",
            "_model_module_version": "1.5.0",
            "_model_name": "HTMLModel",
            "_view_count": null,
            "_view_module": "@jupyter-widgets/controls",
            "_view_module_version": "1.5.0",
            "_view_name": "HTMLView",
            "description": "",
            "description_tooltip": null,
            "layout": "IPY_MODEL_e4921d156ee9470b8306d576fde455fa",
            "placeholder": "​",
            "style": "IPY_MODEL_da11b55278a2416a8d0350604a16f21c",
            "value": "Epoch 999: 100%"
          }
        },
        "11f38a57fd2544b2b2879e7855529067": {
          "model_module": "@jupyter-widgets/controls",
          "model_name": "FloatProgressModel",
          "model_module_version": "1.5.0",
          "state": {
            "_dom_classes": [],
            "_model_module": "@jupyter-widgets/controls",
            "_model_module_version": "1.5.0",
            "_model_name": "FloatProgressModel",
            "_view_count": null,
            "_view_module": "@jupyter-widgets/controls",
            "_view_module_version": "1.5.0",
            "_view_name": "ProgressView",
            "bar_style": "success",
            "description": "",
            "description_tooltip": null,
            "layout": "IPY_MODEL_692366100f6246d1aa594feb881848b4",
            "max": 1,
            "min": 0,
            "orientation": "horizontal",
            "style": "IPY_MODEL_b36510e965c24fa594c7751ce0773bbd",
            "value": 1
          }
        },
        "fb67dfba63534660b6413e444d619470": {
          "model_module": "@jupyter-widgets/controls",
          "model_name": "HTMLModel",
          "model_module_version": "1.5.0",
          "state": {
            "_dom_classes": [],
            "_model_module": "@jupyter-widgets/controls",
            "_model_module_version": "1.5.0",
            "_model_name": "HTMLModel",
            "_view_count": null,
            "_view_module": "@jupyter-widgets/controls",
            "_view_module_version": "1.5.0",
            "_view_name": "HTMLView",
            "description": "",
            "description_tooltip": null,
            "layout": "IPY_MODEL_4a370c71e88b44eaa70bc1d3bb1f3a62",
            "placeholder": "​",
            "style": "IPY_MODEL_6a07d6eeb89c462987aa8181f5beab20",
            "value": " 1/1 [00:00&lt;00:00,  5.25it/s, loss=0.00238]"
          }
        },
        "67a14c6c66ba4d0dbea5f0092b1340eb": {
          "model_module": "@jupyter-widgets/base",
          "model_name": "LayoutModel",
          "model_module_version": "1.2.0",
          "state": {
            "_model_module": "@jupyter-widgets/base",
            "_model_module_version": "1.2.0",
            "_model_name": "LayoutModel",
            "_view_count": null,
            "_view_module": "@jupyter-widgets/base",
            "_view_module_version": "1.2.0",
            "_view_name": "LayoutView",
            "align_content": null,
            "align_items": null,
            "align_self": null,
            "border": null,
            "bottom": null,
            "display": "inline-flex",
            "flex": null,
            "flex_flow": "row wrap",
            "grid_area": null,
            "grid_auto_columns": null,
            "grid_auto_flow": null,
            "grid_auto_rows": null,
            "grid_column": null,
            "grid_gap": null,
            "grid_row": null,
            "grid_template_areas": null,
            "grid_template_columns": null,
            "grid_template_rows": null,
            "height": null,
            "justify_content": null,
            "justify_items": null,
            "left": null,
            "margin": null,
            "max_height": null,
            "max_width": null,
            "min_height": null,
            "min_width": null,
            "object_fit": null,
            "object_position": null,
            "order": null,
            "overflow": null,
            "overflow_x": null,
            "overflow_y": null,
            "padding": null,
            "right": null,
            "top": null,
            "visibility": null,
            "width": "100%"
          }
        },
        "e4921d156ee9470b8306d576fde455fa": {
          "model_module": "@jupyter-widgets/base",
          "model_name": "LayoutModel",
          "model_module_version": "1.2.0",
          "state": {
            "_model_module": "@jupyter-widgets/base",
            "_model_module_version": "1.2.0",
            "_model_name": "LayoutModel",
            "_view_count": null,
            "_view_module": "@jupyter-widgets/base",
            "_view_module_version": "1.2.0",
            "_view_name": "LayoutView",
            "align_content": null,
            "align_items": null,
            "align_self": null,
            "border": null,
            "bottom": null,
            "display": null,
            "flex": null,
            "flex_flow": null,
            "grid_area": null,
            "grid_auto_columns": null,
            "grid_auto_flow": null,
            "grid_auto_rows": null,
            "grid_column": null,
            "grid_gap": null,
            "grid_row": null,
            "grid_template_areas": null,
            "grid_template_columns": null,
            "grid_template_rows": null,
            "height": null,
            "justify_content": null,
            "justify_items": null,
            "left": null,
            "margin": null,
            "max_height": null,
            "max_width": null,
            "min_height": null,
            "min_width": null,
            "object_fit": null,
            "object_position": null,
            "order": null,
            "overflow": null,
            "overflow_x": null,
            "overflow_y": null,
            "padding": null,
            "right": null,
            "top": null,
            "visibility": null,
            "width": null
          }
        },
        "da11b55278a2416a8d0350604a16f21c": {
          "model_module": "@jupyter-widgets/controls",
          "model_name": "DescriptionStyleModel",
          "model_module_version": "1.5.0",
          "state": {
            "_model_module": "@jupyter-widgets/controls",
            "_model_module_version": "1.5.0",
            "_model_name": "DescriptionStyleModel",
            "_view_count": null,
            "_view_module": "@jupyter-widgets/base",
            "_view_module_version": "1.2.0",
            "_view_name": "StyleView",
            "description_width": ""
          }
        },
        "692366100f6246d1aa594feb881848b4": {
          "model_module": "@jupyter-widgets/base",
          "model_name": "LayoutModel",
          "model_module_version": "1.2.0",
          "state": {
            "_model_module": "@jupyter-widgets/base",
            "_model_module_version": "1.2.0",
            "_model_name": "LayoutModel",
            "_view_count": null,
            "_view_module": "@jupyter-widgets/base",
            "_view_module_version": "1.2.0",
            "_view_name": "LayoutView",
            "align_content": null,
            "align_items": null,
            "align_self": null,
            "border": null,
            "bottom": null,
            "display": null,
            "flex": "2",
            "flex_flow": null,
            "grid_area": null,
            "grid_auto_columns": null,
            "grid_auto_flow": null,
            "grid_auto_rows": null,
            "grid_column": null,
            "grid_gap": null,
            "grid_row": null,
            "grid_template_areas": null,
            "grid_template_columns": null,
            "grid_template_rows": null,
            "height": null,
            "justify_content": null,
            "justify_items": null,
            "left": null,
            "margin": null,
            "max_height": null,
            "max_width": null,
            "min_height": null,
            "min_width": null,
            "object_fit": null,
            "object_position": null,
            "order": null,
            "overflow": null,
            "overflow_x": null,
            "overflow_y": null,
            "padding": null,
            "right": null,
            "top": null,
            "visibility": null,
            "width": null
          }
        },
        "b36510e965c24fa594c7751ce0773bbd": {
          "model_module": "@jupyter-widgets/controls",
          "model_name": "ProgressStyleModel",
          "model_module_version": "1.5.0",
          "state": {
            "_model_module": "@jupyter-widgets/controls",
            "_model_module_version": "1.5.0",
            "_model_name": "ProgressStyleModel",
            "_view_count": null,
            "_view_module": "@jupyter-widgets/base",
            "_view_module_version": "1.2.0",
            "_view_name": "StyleView",
            "bar_color": null,
            "description_width": ""
          }
        },
        "4a370c71e88b44eaa70bc1d3bb1f3a62": {
          "model_module": "@jupyter-widgets/base",
          "model_name": "LayoutModel",
          "model_module_version": "1.2.0",
          "state": {
            "_model_module": "@jupyter-widgets/base",
            "_model_module_version": "1.2.0",
            "_model_name": "LayoutModel",
            "_view_count": null,
            "_view_module": "@jupyter-widgets/base",
            "_view_module_version": "1.2.0",
            "_view_name": "LayoutView",
            "align_content": null,
            "align_items": null,
            "align_self": null,
            "border": null,
            "bottom": null,
            "display": null,
            "flex": null,
            "flex_flow": null,
            "grid_area": null,
            "grid_auto_columns": null,
            "grid_auto_flow": null,
            "grid_auto_rows": null,
            "grid_column": null,
            "grid_gap": null,
            "grid_row": null,
            "grid_template_areas": null,
            "grid_template_columns": null,
            "grid_template_rows": null,
            "height": null,
            "justify_content": null,
            "justify_items": null,
            "left": null,
            "margin": null,
            "max_height": null,
            "max_width": null,
            "min_height": null,
            "min_width": null,
            "object_fit": null,
            "object_position": null,
            "order": null,
            "overflow": null,
            "overflow_x": null,
            "overflow_y": null,
            "padding": null,
            "right": null,
            "top": null,
            "visibility": null,
            "width": null
          }
        },
        "6a07d6eeb89c462987aa8181f5beab20": {
          "model_module": "@jupyter-widgets/controls",
          "model_name": "DescriptionStyleModel",
          "model_module_version": "1.5.0",
          "state": {
            "_model_module": "@jupyter-widgets/controls",
            "_model_module_version": "1.5.0",
            "_model_name": "DescriptionStyleModel",
            "_view_count": null,
            "_view_module": "@jupyter-widgets/base",
            "_view_module_version": "1.2.0",
            "_view_name": "StyleView",
            "description_width": ""
          }
        }
      }
    }
  },
  "cells": [
    {
      "cell_type": "code",
      "execution_count": null,
      "metadata": {
        "colab": {
          "base_uri": "https://localhost:8080/"
        },
        "id": "wW670EpmtBmo",
        "outputId": "c9c7f19a-e305-4e66-ab5d-f35e5f209717"
      },
      "outputs": [
        {
          "output_type": "stream",
          "name": "stdout",
          "text": [
            "Mounted at /gdrive\n",
            "/gdrive/My Drive/Colab/proyecto_perfil/modelo\n"
          ]
        }
      ],
      "source": [
        "from google.colab import drive\n",
        "drive.mount('/gdrive')\n",
        "%cd '/gdrive/My Drive/Colab/proyecto_perfil/modelo'"
      ]
    },
    {
      "cell_type": "code",
      "source": [
        "!ls "
      ],
      "metadata": {
        "colab": {
          "base_uri": "https://localhost:8080/"
        },
        "id": "t8uoUfh3uGZF",
        "outputId": "cff31389-0c44-417e-b7f3-97adc8e52484"
      },
      "execution_count": null,
      "outputs": [
        {
          "output_type": "stream",
          "name": "stdout",
          "text": [
            "1_gptmin_compositor_musical.ipynb  minGPT\n"
          ]
        }
      ]
    },
    {
      "cell_type": "code",
      "source": [
        "%cd minGPT"
      ],
      "metadata": {
        "colab": {
          "base_uri": "https://localhost:8080/"
        },
        "id": "n5F5yCQ18vxr",
        "outputId": "9e2c7745-d1b3-42fa-fdf1-24d265d8c474"
      },
      "execution_count": null,
      "outputs": [
        {
          "output_type": "stream",
          "name": "stdout",
          "text": [
            "/gdrive/My Drive/Colab/proyecto_perfil/modelo/minGPT\n"
          ]
        }
      ]
    },
    {
      "cell_type": "code",
      "source": [
        "!pip install -e ."
      ],
      "metadata": {
        "colab": {
          "base_uri": "https://localhost:8080/"
        },
        "id": "kNdJ_tGe82ui",
        "outputId": "54b20ac2-007c-45b2-f7d5-20544169d512"
      },
      "execution_count": null,
      "outputs": [
        {
          "output_type": "stream",
          "name": "stdout",
          "text": [
            "Looking in indexes: https://pypi.org/simple, https://us-python.pkg.dev/colab-wheels/public/simple/\n",
            "Obtaining file:///gdrive/My%20Drive/Colab/proyecto_perfil/modelo/minGPT\n",
            "Requirement already satisfied: torch in /usr/local/lib/python3.7/dist-packages (from minGPT==0.0.1) (1.12.1+cu113)\n",
            "Requirement already satisfied: typing-extensions in /usr/local/lib/python3.7/dist-packages (from torch->minGPT==0.0.1) (4.1.1)\n",
            "Installing collected packages: minGPT\n",
            "  Running setup.py develop for minGPT\n",
            "Successfully installed minGPT-0.0.1\n"
          ]
        }
      ]
    },
    {
      "cell_type": "code",
      "source": [
        "# Ejecutar solo la primera vez cuando se prepara el entorno de trabajo\n",
        "# !git clone https://github.com/karpathy/minGPT.git "
      ],
      "metadata": {
        "colab": {
          "base_uri": "https://localhost:8080/"
        },
        "id": "mBZvd8P0uHpN",
        "outputId": "2ffd51b5-5693-44bb-dc8d-c73563730030"
      },
      "execution_count": null,
      "outputs": [
        {
          "output_type": "stream",
          "name": "stdout",
          "text": [
            "Cloning into 'minGPT'...\n",
            "remote: Enumerating objects: 486, done.\u001b[K\n",
            "remote: Counting objects: 100% (195/195), done.\u001b[K\n",
            "remote: Compressing objects: 100% (99/99), done.\u001b[K\n",
            "remote: Total 486 (delta 101), reused 160 (delta 88), pack-reused 291\u001b[K\n",
            "Receiving objects: 100% (486/486), 1.46 MiB | 8.01 MiB/s, done.\n",
            "Resolving deltas: 100% (256/256), done.\n"
          ]
        }
      ]
    },
    {
      "cell_type": "code",
      "source": [
        "!pip install  music21 8.1.0"
      ],
      "metadata": {
        "colab": {
          "base_uri": "https://localhost:8080/"
        },
        "id": "1Y7ugLzPpQ_C",
        "outputId": "51d47caa-6e72-4daf-f532-d46f65f29f5a"
      },
      "execution_count": null,
      "outputs": [
        {
          "output_type": "stream",
          "name": "stdout",
          "text": [
            "Looking in indexes: https://pypi.org/simple, https://us-python.pkg.dev/colab-wheels/public/simple/\n",
            "Requirement already satisfied: music21 in /usr/local/lib/python3.7/dist-packages (7.3.3)\n",
            "\u001b[31mERROR: Could not find a version that satisfies the requirement 8.1.0 (from versions: none)\u001b[0m\n",
            "\u001b[31mERROR: No matching distribution found for 8.1.0\u001b[0m\n"
          ]
        }
      ]
    },
    {
      "cell_type": "code",
      "source": [
        "!pip list"
      ],
      "metadata": {
        "colab": {
          "base_uri": "https://localhost:8080/"
        },
        "id": "fDC94U3ro-jv",
        "outputId": "6de20fcb-d708-422f-d298-02553a67829b"
      },
      "execution_count": null,
      "outputs": [
        {
          "output_type": "stream",
          "name": "stdout",
          "text": [
            "Package                       Version\n",
            "----------------------------- ----------------------\n",
            "absl-py                       1.3.0\n",
            "aeppl                         0.0.33\n",
            "aesara                        2.7.9\n",
            "aiohttp                       3.8.3\n",
            "aiosignal                     1.3.1\n",
            "alabaster                     0.7.12\n",
            "albumentations                1.2.1\n",
            "altair                        4.2.0\n",
            "appdirs                       1.4.4\n",
            "arviz                         0.12.1\n",
            "astor                         0.8.1\n",
            "astropy                       4.3.1\n",
            "astunparse                    1.6.3\n",
            "async-timeout                 4.0.2\n",
            "asynctest                     0.13.0\n",
            "atari-py                      0.2.9\n",
            "atomicwrites                  1.4.1\n",
            "attrs                         22.1.0\n",
            "audioread                     3.0.0\n",
            "autograd                      1.5\n",
            "Babel                         2.11.0\n",
            "backcall                      0.2.0\n",
            "beautifulsoup4                4.6.3\n",
            "bleach                        5.0.1\n",
            "blis                          0.7.9\n",
            "bokeh                         2.3.3\n",
            "branca                        0.6.0\n",
            "bs4                           0.0.1\n",
            "CacheControl                  0.12.11\n",
            "cached-property               1.5.2\n",
            "cachetools                    5.2.0\n",
            "catalogue                     2.0.8\n",
            "certifi                       2022.9.24\n",
            "cffi                          1.15.1\n",
            "cftime                        1.6.2\n",
            "chardet                       3.0.4\n",
            "charset-normalizer            2.1.1\n",
            "click                         7.1.2\n",
            "clikit                        0.6.2\n",
            "cloudpickle                   1.5.0\n",
            "cmake                         3.22.6\n",
            "cmdstanpy                     1.0.8\n",
            "colorcet                      3.0.1\n",
            "colorlover                    0.3.0\n",
            "community                     1.0.0b1\n",
            "confection                    0.0.3\n",
            "cons                          0.4.5\n",
            "contextlib2                   0.5.5\n",
            "convertdate                   2.4.0\n",
            "crashtest                     0.3.1\n",
            "crcmod                        1.7\n",
            "cufflinks                     0.17.3\n",
            "cvxopt                        1.3.0\n",
            "cvxpy                         1.2.2\n",
            "cycler                        0.11.0\n",
            "cymem                         2.0.7\n",
            "Cython                        0.29.32\n",
            "daft                          0.0.4\n",
            "dask                          2022.2.0\n",
            "datascience                   0.17.5\n",
            "db-dtypes                     1.0.4\n",
            "debugpy                       1.0.0\n",
            "decorator                     4.4.2\n",
            "defusedxml                    0.7.1\n",
            "descartes                     1.1.0\n",
            "dill                          0.3.6\n",
            "distributed                   2022.2.0\n",
            "dlib                          19.24.0\n",
            "dm-tree                       0.1.7\n",
            "dnspython                     2.2.1\n",
            "docutils                      0.17.1\n",
            "dopamine-rl                   1.0.5\n",
            "earthengine-api               0.1.332\n",
            "easydict                      1.10\n",
            "ecos                          2.0.10\n",
            "editdistance                  0.5.3\n",
            "en-core-web-sm                3.4.1\n",
            "entrypoints                   0.4\n",
            "ephem                         4.1.3\n",
            "et-xmlfile                    1.1.0\n",
            "etils                         0.9.0\n",
            "etuples                       0.3.8\n",
            "fa2                           0.3.5\n",
            "fastai                        2.7.10\n",
            "fastcore                      1.5.27\n",
            "fastdownload                  0.0.7\n",
            "fastdtw                       0.3.4\n",
            "fastjsonschema                2.16.2\n",
            "fastprogress                  1.0.3\n",
            "fastrlock                     0.8.1\n",
            "feather-format                0.4.1\n",
            "filelock                      3.8.0\n",
            "firebase-admin                5.3.0\n",
            "fix-yahoo-finance             0.0.22\n",
            "Flask                         1.1.4\n",
            "flatbuffers                   1.12\n",
            "folium                        0.12.1.post1\n",
            "frozenlist                    1.3.3\n",
            "fsspec                        2022.11.0\n",
            "future                        0.16.0\n",
            "gast                          0.4.0\n",
            "GDAL                          2.2.2\n",
            "gdown                         4.4.0\n",
            "gensim                        3.6.0\n",
            "geographiclib                 1.52\n",
            "geopy                         1.17.0\n",
            "gin-config                    0.5.0\n",
            "glob2                         0.7\n",
            "google                        2.0.3\n",
            "google-api-core               2.8.2\n",
            "google-api-python-client      1.12.11\n",
            "google-auth                   2.14.1\n",
            "google-auth-httplib2          0.0.4\n",
            "google-auth-oauthlib          0.4.6\n",
            "google-cloud-bigquery         3.3.6\n",
            "google-cloud-bigquery-storage 2.16.2\n",
            "google-cloud-core             2.3.2\n",
            "google-cloud-datastore        2.9.0\n",
            "google-cloud-firestore        2.7.2\n",
            "google-cloud-language         2.6.1\n",
            "google-cloud-storage          2.5.0\n",
            "google-cloud-translate        3.8.4\n",
            "google-colab                  1.0.0\n",
            "google-crc32c                 1.5.0\n",
            "google-pasta                  0.2.0\n",
            "google-resumable-media        2.4.0\n",
            "googleapis-common-protos      1.57.0\n",
            "googledrivedownloader         0.4\n",
            "graphviz                      0.10.1\n",
            "greenlet                      2.0.1\n",
            "grpcio                        1.50.0\n",
            "grpcio-status                 1.48.2\n",
            "gspread                       3.4.2\n",
            "gspread-dataframe             3.0.8\n",
            "gym                           0.25.2\n",
            "gym-notices                   0.0.8\n",
            "h5py                          3.1.0\n",
            "HeapDict                      1.0.1\n",
            "hijri-converter               2.2.4\n",
            "holidays                      0.17\n",
            "holoviews                     1.14.9\n",
            "html5lib                      1.0.1\n",
            "httpimport                    0.5.18\n",
            "httplib2                      0.17.4\n",
            "httpstan                      4.6.1\n",
            "humanize                      0.5.1\n",
            "hyperopt                      0.1.2\n",
            "idna                          2.10\n",
            "imageio                       2.9.0\n",
            "imagesize                     1.4.1\n",
            "imbalanced-learn              0.8.1\n",
            "imblearn                      0.0\n",
            "imgaug                        0.4.0\n",
            "importlib-metadata            4.13.0\n",
            "importlib-resources           5.10.0\n",
            "imutils                       0.5.4\n",
            "inflect                       2.1.0\n",
            "intel-openmp                  2022.2.1\n",
            "intervaltree                  2.1.0\n",
            "ipykernel                     5.3.4\n",
            "ipython                       7.9.0\n",
            "ipython-genutils              0.2.0\n",
            "ipython-sql                   0.3.9\n",
            "ipywidgets                    7.7.1\n",
            "itsdangerous                  1.1.0\n",
            "jax                           0.3.25\n",
            "jaxlib                        0.3.25+cuda11.cudnn805\n",
            "jieba                         0.42.1\n",
            "Jinja2                        2.11.3\n",
            "joblib                        1.2.0\n",
            "jpeg4py                       0.1.4\n",
            "jsonpickle                    2.2.0\n",
            "jsonschema                    4.3.3\n",
            "jupyter-client                6.1.12\n",
            "jupyter-console               6.1.0\n",
            "jupyter-core                  4.11.2\n",
            "jupyterlab-widgets            3.0.3\n",
            "kaggle                        1.5.12\n",
            "kapre                         0.3.7\n",
            "keras                         2.9.0\n",
            "Keras-Preprocessing           1.1.2\n",
            "keras-vis                     0.4.1\n",
            "kiwisolver                    1.4.4\n",
            "korean-lunar-calendar         0.3.1\n",
            "langcodes                     3.3.0\n",
            "libclang                      14.0.6\n",
            "librosa                       0.8.1\n",
            "lightgbm                      2.2.3\n",
            "llvmlite                      0.39.1\n",
            "lmdb                          0.99\n",
            "locket                        1.0.0\n",
            "logical-unification           0.4.5\n",
            "LunarCalendar                 0.0.9\n",
            "lxml                          4.9.1\n",
            "Markdown                      3.4.1\n",
            "MarkupSafe                    2.0.1\n",
            "marshmallow                   3.19.0\n",
            "matplotlib                    3.2.2\n",
            "matplotlib-venn               0.11.7\n",
            "miniKanren                    1.0.3\n",
            "missingno                     0.5.1\n",
            "mistune                       0.8.4\n",
            "mizani                        0.7.3\n",
            "mkl                           2019.0\n",
            "mlxtend                       0.14.0\n",
            "more-itertools                9.0.0\n",
            "moviepy                       0.2.3.5\n",
            "mpmath                        1.2.1\n",
            "msgpack                       1.0.4\n",
            "multidict                     6.0.2\n",
            "multipledispatch              0.6.0\n",
            "multitasking                  0.0.11\n",
            "murmurhash                    1.0.9\n",
            "music21                       7.3.3\n",
            "natsort                       5.5.0\n",
            "nbconvert                     5.6.1\n",
            "nbformat                      5.7.0\n",
            "netCDF4                       1.6.2\n",
            "networkx                      2.6.3\n",
            "nibabel                       3.0.2\n",
            "nltk                          3.7\n",
            "notebook                      5.7.16\n",
            "numba                         0.56.4\n",
            "numexpr                       2.8.4\n",
            "numpy                         1.21.6\n",
            "oauth2client                  4.1.3\n",
            "oauthlib                      3.2.2\n",
            "okgrade                       0.4.3\n",
            "opencv-contrib-python         4.6.0.66\n",
            "opencv-python                 4.6.0.66\n",
            "opencv-python-headless        4.6.0.66\n",
            "openpyxl                      3.0.10\n",
            "opt-einsum                    3.3.0\n",
            "osqp                          0.6.2.post0\n",
            "packaging                     21.3\n",
            "palettable                    3.3.0\n",
            "pandas                        1.3.5\n",
            "pandas-datareader             0.9.0\n",
            "pandas-gbq                    0.17.9\n",
            "pandas-profiling              1.4.1\n",
            "pandocfilters                 1.5.0\n",
            "panel                         0.12.1\n",
            "param                         1.12.2\n",
            "parso                         0.8.3\n",
            "partd                         1.3.0\n",
            "pastel                        0.2.1\n",
            "pathlib                       1.0.1\n",
            "pathy                         0.8.1\n",
            "patsy                         0.5.3\n",
            "pep517                        0.13.0\n",
            "pexpect                       4.8.0\n",
            "pickleshare                   0.7.5\n",
            "Pillow                        7.1.2\n",
            "pip                           21.1.3\n",
            "pip-tools                     6.2.0\n",
            "plotly                        5.5.0\n",
            "plotnine                      0.8.0\n",
            "pluggy                        0.7.1\n",
            "pooch                         1.6.0\n",
            "portpicker                    1.3.9\n",
            "prefetch-generator            1.0.1\n",
            "preshed                       3.0.8\n",
            "prettytable                   3.5.0\n",
            "progressbar2                  3.38.0\n",
            "prometheus-client             0.15.0\n",
            "promise                       2.3\n",
            "prompt-toolkit                2.0.10\n",
            "prophet                       1.1.1\n",
            "proto-plus                    1.22.1\n",
            "protobuf                      3.19.6\n",
            "psutil                        5.4.8\n",
            "psycopg2                      2.9.5\n",
            "ptyprocess                    0.7.0\n",
            "py                            1.11.0\n",
            "pyarrow                       9.0.0\n",
            "pyasn1                        0.4.8\n",
            "pyasn1-modules                0.2.8\n",
            "pycocotools                   2.0.6\n",
            "pycparser                     2.21\n",
            "pyct                          0.4.8\n",
            "pydantic                      1.10.2\n",
            "pydata-google-auth            1.4.0\n",
            "pydot                         1.3.0\n",
            "pydot-ng                      2.0.0\n",
            "pydotplus                     2.0.2\n",
            "PyDrive                       1.3.1\n",
            "pyemd                         0.5.1\n",
            "pyerfa                        2.0.0.1\n",
            "Pygments                      2.6.1\n",
            "pygobject                     3.26.1\n",
            "pylev                         1.4.0\n",
            "pymc                          4.1.4\n",
            "PyMeeus                       0.5.11\n",
            "pymongo                       4.3.3\n",
            "pymystem3                     0.2.0\n",
            "PyOpenGL                      3.1.6\n",
            "pyparsing                     3.0.9\n",
            "pyrsistent                    0.19.2\n",
            "pysimdjson                    3.2.0\n",
            "pysndfile                     1.3.8\n",
            "PySocks                       1.7.1\n",
            "pystan                        3.3.0\n",
            "pytest                        3.6.4\n",
            "python-apt                    0.0.0\n",
            "python-dateutil               2.8.2\n",
            "python-louvain                0.16\n",
            "python-slugify                6.1.2\n",
            "python-utils                  3.4.5\n",
            "pytz                          2022.6\n",
            "pyviz-comms                   2.2.1\n",
            "PyWavelets                    1.3.0\n",
            "PyYAML                        6.0\n",
            "pyzmq                         23.2.1\n",
            "qdldl                         0.1.5.post2\n",
            "qudida                        0.0.4\n",
            "regex                         2022.6.2\n",
            "requests                      2.23.0\n",
            "requests-oauthlib             1.3.1\n",
            "resampy                       0.4.2\n",
            "rpy2                          3.5.5\n",
            "rsa                           4.9\n",
            "scikit-image                  0.18.3\n",
            "scikit-learn                  1.0.2\n",
            "scipy                         1.7.3\n",
            "screen-resolution-extra       0.0.0\n",
            "scs                           3.2.2\n",
            "seaborn                       0.11.2\n",
            "Send2Trash                    1.8.0\n",
            "setuptools                    57.4.0\n",
            "setuptools-git                1.2\n",
            "Shapely                       1.8.5.post1\n",
            "six                           1.15.0\n",
            "sklearn-pandas                1.8.0\n",
            "smart-open                    5.2.1\n",
            "snowballstemmer               2.2.0\n",
            "sortedcontainers              2.4.0\n",
            "soundfile                     0.11.0\n",
            "spacy                         3.4.3\n",
            "spacy-legacy                  3.0.10\n",
            "spacy-loggers                 1.0.3\n",
            "Sphinx                        1.8.6\n",
            "sphinxcontrib-serializinghtml 1.1.5\n",
            "sphinxcontrib-websupport      1.2.4\n",
            "SQLAlchemy                    1.4.44\n",
            "sqlparse                      0.4.3\n",
            "srsly                         2.4.5\n",
            "statsmodels                   0.12.2\n",
            "sympy                         1.7.1\n",
            "tables                        3.7.0\n",
            "tabulate                      0.8.10\n",
            "tblib                         1.7.0\n",
            "tenacity                      8.1.0\n",
            "tensorboard                   2.9.1\n",
            "tensorboard-data-server       0.6.1\n",
            "tensorboard-plugin-wit        1.8.1\n",
            "tensorflow                    2.9.2\n",
            "tensorflow-datasets           4.6.0\n",
            "tensorflow-estimator          2.9.0\n",
            "tensorflow-gcs-config         2.9.1\n",
            "tensorflow-hub                0.12.0\n",
            "tensorflow-io-gcs-filesystem  0.27.0\n",
            "tensorflow-metadata           1.11.0\n",
            "tensorflow-probability        0.17.0\n",
            "termcolor                     2.1.0\n",
            "terminado                     0.13.3\n",
            "testpath                      0.6.0\n",
            "text-unidecode                1.3\n",
            "textblob                      0.15.3\n",
            "thinc                         8.1.5\n",
            "threadpoolctl                 3.1.0\n",
            "tifffile                      2021.11.2\n",
            "toml                          0.10.2\n",
            "tomli                         2.0.1\n",
            "toolz                         0.12.0\n",
            "torch                         1.12.1+cu113\n",
            "torchaudio                    0.12.1+cu113\n",
            "torchsummary                  1.5.1\n",
            "torchtext                     0.13.1\n",
            "torchvision                   0.13.1+cu113\n",
            "tornado                       6.0.4\n",
            "tqdm                          4.64.1\n",
            "traitlets                     5.1.1\n",
            "tweepy                        3.10.0\n",
            "typeguard                     2.7.1\n",
            "typer                         0.7.0\n",
            "typing-extensions             4.1.1\n",
            "tzlocal                       1.5.1\n",
            "uritemplate                   3.0.1\n",
            "urllib3                       1.24.3\n",
            "vega-datasets                 0.9.0\n",
            "wasabi                        0.10.1\n",
            "wcwidth                       0.2.5\n",
            "webargs                       8.2.0\n",
            "webcolors                     1.12\n",
            "webencodings                  0.5.1\n",
            "Werkzeug                      1.0.1\n",
            "wheel                         0.38.4\n",
            "widgetsnbextension            3.6.1\n",
            "wordcloud                     1.8.2.2\n",
            "wrapt                         1.14.1\n",
            "xarray                        0.20.2\n",
            "xarray-einstats               0.2.2\n",
            "xgboost                       0.90\n",
            "xkit                          0.0.0\n",
            "xlrd                          1.1.0\n",
            "xlwt                          1.3.0\n",
            "yarl                          1.8.1\n",
            "yellowbrick                   1.5\n",
            "zict                          2.2.0\n",
            "zipp                          3.10.0\n"
          ]
        }
      ]
    },
    {
      "cell_type": "code",
      "source": [
        "import torch\n",
        "import numpy as np\n",
        "import json"
      ],
      "metadata": {
        "id": "AxL62nXX24jQ"
      },
      "execution_count": null,
      "outputs": []
    },
    {
      "cell_type": "code",
      "source": [
        "\n",
        "def cargarArchivosNPY(path):\n",
        "    with open(path, 'rb') as f:\n",
        "        datos = np.load(f,allow_pickle=True)\n",
        "    return datos "
      ],
      "metadata": {
        "id": "xlWCs2hFvtGN"
      },
      "execution_count": null,
      "outputs": []
    },
    {
      "cell_type": "code",
      "source": [
        "def cargarVocabulario(pathVocabulario):\n",
        "    with open(pathVocabulario, \"r\") as fp:\n",
        "        mappings = json.load(fp)\n",
        "    return mappings"
      ],
      "metadata": {
        "id": "vvDgZStu0bLB"
      },
      "execution_count": null,
      "outputs": []
    },
    {
      "cell_type": "code",
      "source": [
        "vocab=cargarVocabulario(\"../../vocabulario/vocabulario2022.json\")\n",
        "len(vocab)"
      ],
      "metadata": {
        "colab": {
          "base_uri": "https://localhost:8080/"
        },
        "id": "_Ggmlubs01kz",
        "outputId": "e036ada7-8870-4d9b-c2c7-5f53bd1bcac2"
      },
      "execution_count": null,
      "outputs": [
        {
          "output_type": "execute_result",
          "data": {
            "text/plain": [
              "135"
            ]
          },
          "metadata": {},
          "execution_count": 7
        }
      ]
    },
    {
      "cell_type": "code",
      "source": [
        "!ls "
      ],
      "metadata": {
        "colab": {
          "base_uri": "https://localhost:8080/"
        },
        "id": "CGmKHIxw0IGe",
        "outputId": "e01e92ec-1600-4eb9-9ffd-a7c76e6b31d2"
      },
      "execution_count": null,
      "outputs": [
        {
          "output_type": "stream",
          "name": "stdout",
          "text": [
            "demo.ipynb  generate.ipynb  mingpt\t     mingpt.jpg  README.md  tests\n",
            "font.sf2    LICENSE\t    minGPT.egg-info  projects\t setup.py\n"
          ]
        }
      ]
    },
    {
      "cell_type": "code",
      "source": [
        "datos=cargarArchivosNPY(\"../../archivos_numpy/partituras.npy\")\n",
        "datos"
      ],
      "metadata": {
        "id": "n2zTKrFayfhz"
      },
      "execution_count": null,
      "outputs": []
    },
    {
      "cell_type": "code",
      "source": [
        "datoPrueba= datos.tolist()\n",
        "datoPrueba=np.array(datoPrueba[\"0\"])\n",
        "len(datoPrueba)"
      ],
      "metadata": {
        "colab": {
          "base_uri": "https://localhost:8080/"
        },
        "id": "eFzo15O6OW9a",
        "outputId": "d7e36455-8eb2-4c31-866b-88b3f8ff95d8"
      },
      "execution_count": null,
      "outputs": [
        {
          "output_type": "execute_result",
          "data": {
            "text/plain": [
              "310"
            ]
          },
          "metadata": {},
          "execution_count": 10
        }
      ]
    },
    {
      "cell_type": "code",
      "source": [
        "def convertir_tokens_a_notas(vocabulario,listTokens):\n",
        "  vocaRev = { i:ch for i,ch in enumerate(vocab) }\n",
        "  notas=[vocaRev[t] for t in listTokens]\n",
        "  return notas,vocaRev\n",
        "\n"
      ],
      "metadata": {
        "id": "Ep60YbT_g-CI"
      },
      "execution_count": null,
      "outputs": []
    },
    {
      "cell_type": "code",
      "source": [
        "convertir_tokens_a_notas(vocab,[0,1,2,3,4,30])"
      ],
      "metadata": {
        "id": "ZczkjnTTkDdY"
      },
      "execution_count": null,
      "outputs": []
    },
    {
      "cell_type": "code",
      "source": [
        "stoi = { i:ch for i,ch in enumerate(vocab) }\n",
        "stoi"
      ],
      "metadata": {
        "id": "AHFgCPIFjE2_"
      },
      "execution_count": null,
      "outputs": []
    },
    {
      "cell_type": "code",
      "source": [
        "from mingpt.model import GPT\n",
        "model_config = GPT.get_default_config()\n",
        "model_config.model_type = 'gpt2'\n",
        "model_config.vocab_size =len(vocab) # openai's model vocabulary\n",
        "model_config.block_size = 1024 \n",
        "\n",
        "\n",
        "model = GPT(model_config)\n",
        "\n",
        "model"
      ],
      "metadata": {
        "id": "TuOD_gRC1XSh"
      },
      "execution_count": null,
      "outputs": []
    },
    {
      "cell_type": "code",
      "source": [
        "\n",
        "class Dataset(torch.utils.data.Dataset):\n",
        "\n",
        "  def __init__(self, examples,sizeBlock):\n",
        "    self.examples = examples\n",
        "    self.sizeBlock = sizeBlock\n",
        "\n",
        "  def __len__(self):\n",
        "    return len(self.examples)\n",
        "   \n",
        "  def __getitem__(self, ix):\n",
        "    dato=self.examples[ix]\n",
        "    entrada=dato[:-1]\n",
        "    salida = dato[1:]\n",
        "    input = np.pad(entrada, (0,self.sizeBlock-len(entrada)), 'constant', constant_values=0)\n",
        "    target = np.pad(salida, (0,self.sizeBlock-len(salida)), 'constant', constant_values=0)\n",
        "    assert len(input) == self.sizeBlock\n",
        "    assert len(target) == self.sizeBlock\n",
        "\n",
        "    return torch.LongTensor(input), torch.LongTensor(target)"
      ],
      "metadata": {
        "id": "oxGeZCnk2A6n"
      },
      "execution_count": null,
      "outputs": []
    },
    {
      "cell_type": "code",
      "source": [
        "instanciaDataset=Dataset([datoPrueba],1024)\n",
        "input,target=instanciaDataset[0]\n",
        "# print(input)\n"
      ],
      "metadata": {
        "id": "0laoK-CjN1_V"
      },
      "execution_count": null,
      "outputs": []
    },
    {
      "cell_type": "code",
      "source": [
        "# print(target)"
      ],
      "metadata": {
        "id": "C6GVgZ1NViOW"
      },
      "execution_count": null,
      "outputs": []
    },
    {
      "cell_type": "code",
      "source": [
        "dl = torch.utils.data.DataLoader(instanciaDataset, batch_size=1, shuffle=False)\n",
        "\n",
        "x, y = next(iter(dl))\n",
        "x.shape, y.shape"
      ],
      "metadata": {
        "colab": {
          "base_uri": "https://localhost:8080/"
        },
        "id": "itOZssgMIya1",
        "outputId": "ec52c42a-1274-46ab-e0bb-1d99f53731dd"
      },
      "execution_count": null,
      "outputs": [
        {
          "output_type": "execute_result",
          "data": {
            "text/plain": [
              "(torch.Size([1, 1024]), torch.Size([1, 1024]))"
            ]
          },
          "metadata": {},
          "execution_count": 14
        }
      ]
    },
    {
      "cell_type": "code",
      "source": [
        "!pip install pytorch_lightning"
      ],
      "metadata": {
        "id": "BGcdzM0TW12W"
      },
      "execution_count": null,
      "outputs": []
    },
    {
      "cell_type": "code",
      "source": [
        "import pytorch_lightning as pl  \n",
        "\n",
        "class Module(pl.LightningModule):\n",
        "\tdef __init__(self, model, tconf):\n",
        "\t\tsuper().__init__()\n",
        "\t\tself.model = model \n",
        "\t\tself.tconf = tconf\n",
        "\n",
        "\tdef forward(self, x):\n",
        "\t\treturn self.model(x)[0]\n",
        "\n",
        "\tdef training_step(self, batch, batch_idx):\n",
        "\t\ty, loss = self.model(*batch)\n",
        "\t\treturn loss \n",
        "\n",
        "\tdef validation_step(self, batch, batch_idx):\n",
        "\t\ty, loss = self.model(*batch)\n",
        "\t\tself.log('val_loss', loss.item())\n",
        "\n",
        "\tdef configure_optimizers(self):\n",
        "\t\treturn self.model.configure_optimizers(self.tconf)"
      ],
      "metadata": {
        "id": "UG7E3R9JKNed"
      },
      "execution_count": null,
      "outputs": []
    },
    {
      "cell_type": "code",
      "source": [
        "from mingpt.trainer import Trainer\n",
        "train_config = Trainer.get_default_config()\n",
        "train_config.learning_rate = 5e-4 # many possible options, see the file\n",
        "train_config.batch_size=1\n",
        "module=Module(model,train_config)"
      ],
      "metadata": {
        "id": "WGhXh5stXAUL"
      },
      "execution_count": null,
      "outputs": []
    },
    {
      "cell_type": "code",
      "source": [
        "trainer = pl.Trainer(\n",
        "\tgpus=1,\n",
        "\tmax_epochs=1000,\n",
        "\tprecision=16,\n",
        "\toverfit_batches=1,\n",
        "\tlogger=False,\n",
        "\tenable_checkpointing=False,\n",
        ")\n",
        "\n",
        "trainer.fit(module, dl)"
      ],
      "metadata": {
        "colab": {
          "base_uri": "https://localhost:8080/",
          "height": 434,
          "referenced_widgets": [
            "6a8d60029f5c4fcfbacbdd613906e57f",
            "8eec4fbe259b4afc86e24285300ad6e3",
            "11f38a57fd2544b2b2879e7855529067",
            "fb67dfba63534660b6413e444d619470",
            "67a14c6c66ba4d0dbea5f0092b1340eb",
            "e4921d156ee9470b8306d576fde455fa",
            "da11b55278a2416a8d0350604a16f21c",
            "692366100f6246d1aa594feb881848b4",
            "b36510e965c24fa594c7751ce0773bbd",
            "4a370c71e88b44eaa70bc1d3bb1f3a62",
            "6a07d6eeb89c462987aa8181f5beab20"
          ]
        },
        "id": "GwImDG02XQXj",
        "outputId": "18a0aa05-7613-431b-d355-4b50b83f06b4"
      },
      "execution_count": null,
      "outputs": [
        {
          "output_type": "stream",
          "name": "stderr",
          "text": [
            "/usr/local/lib/python3.7/dist-packages/pytorch_lightning/trainer/connectors/accelerator_connector.py:447: LightningDeprecationWarning: Setting `Trainer(gpus=1)` is deprecated in v1.7 and will be removed in v2.0. Please use `Trainer(accelerator='gpu', devices=1)` instead.\n",
            "  f\"Setting `Trainer(gpus={gpus!r})` is deprecated in v1.7 and will be removed\"\n",
            "INFO:pytorch_lightning.utilities.rank_zero:Using 16bit native Automatic Mixed Precision (AMP)\n",
            "INFO:pytorch_lightning.utilities.rank_zero:GPU available: True (cuda), used: True\n",
            "INFO:pytorch_lightning.utilities.rank_zero:TPU available: False, using: 0 TPU cores\n",
            "INFO:pytorch_lightning.utilities.rank_zero:IPU available: False, using: 0 IPUs\n",
            "INFO:pytorch_lightning.utilities.rank_zero:HPU available: False, using: 0 HPUs\n",
            "INFO:pytorch_lightning.utilities.rank_zero:`Trainer(overfit_batches=1)` was configured so 1 batch will be used.\n",
            "/usr/local/lib/python3.7/dist-packages/pytorch_lightning/trainer/configuration_validator.py:110: PossibleUserWarning: You defined a `validation_step` but have no `val_dataloader`. Skipping val loop.\n",
            "  category=PossibleUserWarning,\n",
            "INFO:pytorch_lightning.accelerators.cuda:LOCAL_RANK: 0 - CUDA_VISIBLE_DEVICES: [0]\n",
            "INFO:pytorch_lightning.callbacks.model_summary:\n",
            "  | Name  | Type | Params\n",
            "-------------------------------\n",
            "0 | model | GPT  | 86.0 M\n",
            "-------------------------------\n",
            "86.0 M    Trainable params\n",
            "0         Non-trainable params\n",
            "86.0 M    Total params\n",
            "172.100   Total estimated model params size (MB)\n"
          ]
        },
        {
          "output_type": "display_data",
          "data": {
            "text/plain": [
              "Training: 0it [00:00, ?it/s]"
            ],
            "application/vnd.jupyter.widget-view+json": {
              "version_major": 2,
              "version_minor": 0,
              "model_id": "6a8d60029f5c4fcfbacbdd613906e57f"
            }
          },
          "metadata": {}
        },
        {
          "output_type": "stream",
          "name": "stderr",
          "text": [
            "INFO:pytorch_lightning.utilities.rank_zero:`Trainer.fit` stopped: `max_epochs=1000` reached.\n"
          ]
        }
      ]
    },
    {
      "cell_type": "code",
      "source": [
        "model.eval()"
      ],
      "metadata": {
        "id": "UrFGPnKFVAZo"
      },
      "execution_count": null,
      "outputs": []
    },
    {
      "cell_type": "code",
      "source": [
        "new_words = 15\n",
        "entr=input[:300].expand(1,-1)\n",
        "y = model.generate(entr, new_words)\n",
        "#Tokens generados\n",
        "y "
      ],
      "metadata": {
        "colab": {
          "base_uri": "https://localhost:8080/"
        },
        "id": "k0jsASRSTYEo",
        "outputId": "c24a207b-b8ff-42ba-a261-f62259f4ac91"
      },
      "execution_count": null,
      "outputs": [
        {
          "output_type": "execute_result",
          "data": {
            "text/plain": [
              "tensor([[  1,  45,  34,  41, 103,   3, 107,   4, 107,   3,  19, 107,   3, 107,\n",
              "           4, 105,   3, 107,   4, 105,   4, 107,   3, 105,   3, 107,   3, 109,\n",
              "           3, 110,   8,  20,   4, 102,   3, 105,   4, 105,   3, 105,   3, 105,\n",
              "           4, 107,   3, 105,   5, 100,   3, 102,   3, 100,   3,  99,   3, 102,\n",
              "           3, 100,   6,  20,   6,  24,  23, 100,   3, 103,   4, 103,   3, 103,\n",
              "           3, 103,   4, 102,   3, 103,   4, 102,   4, 103,   3, 102,   3, 103,\n",
              "           3, 105,   3, 107,   8,  20,   4, 102,   3, 105,   4, 105,   3, 105,\n",
              "           3, 105,   4, 107,   3, 105,   5, 102,   3, 102,   3, 100,   3,  99,\n",
              "           3, 102,   3,  21, 100,   8,  20,   4,  24,  21, 100,   5, 107,   3,\n",
              "         107,   3, 107,   4, 105,   3,  21,  23, 107,   3, 107,   4, 105,   3,\n",
              "         107,   5, 105,   3, 107,   8,  20,   4, 102,   3, 105,   4, 105,   3,\n",
              "         105,   3, 105,   4, 107,   3, 105,   5, 102,   3, 102,   3, 100,   3,\n",
              "          99,   3, 102,   3,  21, 100,   5, 107,   3, 107,   3, 107,   4, 105,\n",
              "           3,  24,  21, 100,   4, 100,   4, 100,   3,  98,   3,  95,   4,  21,\n",
              "          23, 112,   3, 112,   3, 110,   3, 110,   3, 107,   3, 107,   3, 105,\n",
              "           3, 107,   3, 110,   8,  20,   4, 105,   3, 107,   3, 110,   3, 105,\n",
              "           3, 107,   3, 110,   3, 105,   3, 103,   3, 100,   8,  20,   4,  24,\n",
              "          23, 100,   3, 103,   4, 103,   3, 103,   3, 103,   4, 102,   3, 103,\n",
              "           4, 102,   4, 103,   3, 102,   3, 103,   3, 105,   3, 107,   8,  20,\n",
              "           4, 102,   3, 105,   4, 105,   3, 105,   3, 105,   4, 107,   3, 105,\n",
              "           5, 102,   3, 102,   3, 100,   3,  99,   3, 102,   3,  21, 100,   8,\n",
              "          20,   4,  24,  21, 100,   4, 100,   4, 100,   3,  98,   3,  95,   4,\n",
              "          22,   2,   0,   0,   0,   0,   0]])"
            ]
          },
          "metadata": {},
          "execution_count": 41
        }
      ]
    },
    {
      "cell_type": "code",
      "source": [
        "#Token real partitura\n",
        "print(target[:315])"
      ],
      "metadata": {
        "colab": {
          "base_uri": "https://localhost:8080/"
        },
        "id": "RYAlFcKycyQ_",
        "outputId": "5f43ba17-8bc5-4d3d-9440-54992db960d1"
      },
      "execution_count": null,
      "outputs": [
        {
          "output_type": "stream",
          "name": "stdout",
          "text": [
            "tensor([ 45,  34,  41, 103,   3, 107,   4, 107,   3,  19, 107,   3, 107,   4,\n",
            "        105,   3, 107,   4, 105,   4, 107,   3, 105,   3, 107,   3, 109,   3,\n",
            "        110,   8,  20,   4, 102,   3, 105,   4, 105,   3, 105,   3, 105,   4,\n",
            "        107,   3, 105,   5, 100,   3, 102,   3, 100,   3,  99,   3, 102,   3,\n",
            "        100,   6,  20,   6,  24,  23, 100,   3, 103,   4, 103,   3, 103,   3,\n",
            "        103,   4, 102,   3, 103,   4, 102,   4, 103,   3, 102,   3, 103,   3,\n",
            "        105,   3, 107,   8,  20,   4, 102,   3, 105,   4, 105,   3, 105,   3,\n",
            "        105,   4, 107,   3, 105,   5, 102,   3, 102,   3, 100,   3,  99,   3,\n",
            "        102,   3,  21, 100,   8,  20,   4,  24,  21, 100,   5, 107,   3, 107,\n",
            "          3, 107,   4, 105,   3,  21,  23, 107,   3, 107,   4, 105,   3, 107,\n",
            "          5, 105,   3, 107,   8,  20,   4, 102,   3, 105,   4, 105,   3, 105,\n",
            "          3, 105,   4, 107,   3, 105,   5, 102,   3, 102,   3, 100,   3,  99,\n",
            "          3, 102,   3,  21, 100,   5, 107,   3, 107,   3, 107,   4, 105,   3,\n",
            "         24,  21, 100,   4, 100,   4, 100,   3,  98,   3,  95,   4,  21,  23,\n",
            "        112,   3, 112,   3, 110,   3, 110,   3, 107,   3, 107,   3, 105,   3,\n",
            "        107,   3, 110,   8,  20,   4, 105,   3, 107,   3, 110,   3, 105,   3,\n",
            "        107,   3, 110,   3, 105,   3, 103,   3, 100,   8,  20,   4,  24,  23,\n",
            "        100,   3, 103,   4, 103,   3, 103,   3, 103,   4, 102,   3, 103,   4,\n",
            "        102,   4, 103,   3, 102,   3, 103,   3, 105,   3, 107,   8,  20,   4,\n",
            "        102,   3, 105,   4, 105,   3, 105,   3, 105,   4, 107,   3, 105,   5,\n",
            "        102,   3, 102,   3, 100,   3,  99,   3, 102,   3,  21, 100,   8,  20,\n",
            "          4,  24,  21, 100,   4, 100,   4, 100,   3,  98,   3,  95,   4,  22,\n",
            "          2,   0,   0,   0,   0,   0,   0])\n"
          ]
        }
      ]
    },
    {
      "cell_type": "code",
      "source": [
        "partitura=[ 45,  34,  41, 103,   3, 107,   4, 107,   3,  19, 107,   3, 107,   4,\n",
        "        105,   3, 107,   4, 105,   4, 107,   3, 105,   3, 107,   3, 109,   3,\n",
        "        110,   8,  20,   4, 102,   3, 105,   4, 105,   3, 105,   3, 105,   4,\n",
        "        107,   3, 105,   5, 100,   3, 102,   3, 100,   3,  99,   3, 102,   3,\n",
        "        100,   6,  20,   6,  24,  23, 100,   3, 103,   4, 103,   3, 103,   3,\n",
        "        103,   4, 102,   3, 103,   4, 102,   4, 103,   3, 102,   3, 103,   3,\n",
        "        105,   3, 107,   8,  20,   4, 102,   3, 105,   4, 105,   3, 105,   3,\n",
        "        105,   4, 107,   3, 105,   5, 102,   3, 102,   3, 100,   3,  99,   3,\n",
        "        102,   3,  21, 100,   8,  20,   4,  24,  21, 100,   5, 107,   3, 107,\n",
        "          3, 107,   4, 105,   3,  21,  23, 107,   3, 107,   4, 105,   3, 107,\n",
        "          5, 105,   3, 107,   8,  20,   4, 102,   3, 105,   4, 105,   3, 105,\n",
        "          3, 105,   4, 107,   3, 105,   5, 102,   3, 102,   3, 100,   3,  99,\n",
        "          3, 102,   3,  21, 100,   5, 107,   3, 107,   3, 107,   4, 105,   3,\n",
        "         24,  21, 100,   4, 100,   4, 100,   3,  98,   3,  95,   4,  21,  23,\n",
        "        112,   3, 112,   3, 110,   3, 110,   3, 107,   3, 107,   3, 105,   3,\n",
        "        107,   3, 110,   8,  20,   4, 105,   3, 107,   3, 110,   3, 105,   3,\n",
        "        107,   3, 110,   3, 105,   3, 103,   3, 100,   8,  20,   4,  24,  23,\n",
        "        100,   3, 103,   4, 103,   3, 103,   3, 103,   4, 102,   3, 103,   4,\n",
        "        102,   4, 103,   3, 102,   3, 103,   3, 105,   3, 107,   8,  20,   4,\n",
        "        102,   3, 105,   4, 105,   3, 105,   3, 105,   4, 107,   3, 105,   5,\n",
        "        102,   3, 102,   3, 100,   3,  99,   3, 102,   3,  21, 100,   8,  20,\n",
        "          4,  24,  21, 100,   4, 100,   4, 100,   3,  98,   3,  95,   4,  22,]"
      ],
      "metadata": {
        "id": "Q0lubDILIBRn"
      },
      "execution_count": null,
      "outputs": []
    },
    {
      "cell_type": "code",
      "source": [
        "#Apartir de esta celda el siguiente codigo es para graficar los tokens a una imagen de partitura lo cual no se pudo terminar en este Sprint\n",
        "partituraLimpia,vocabReves=convertir_tokens_a_notas(vocabulario=vocab,listTokens=partitura)\n",
        "partituraLimpia=np.array(partituraLimpia)\n",
        "vocabReves[partitura[5]]"
      ],
      "metadata": {
        "colab": {
          "base_uri": "https://localhost:8080/",
          "height": 35
        },
        "id": "hTNdn8_-I24I",
        "outputId": "50abca41-72b3-4e5c-c4e0-dcb392d6469c"
      },
      "execution_count": null,
      "outputs": [
        {
          "output_type": "execute_result",
          "data": {
            "text/plain": [
              "'81'"
            ],
            "application/vnd.google.colaboratory.intrinsic+json": {
              "type": "string"
            }
          },
          "metadata": {},
          "execution_count": 14
        }
      ]
    },
    {
      "cell_type": "code",
      "source": [
        "#permite que music21 renderice imágenes de notas musicales\n",
        "print('installing Lilypond...')\n",
        "!apt-get install lilypond > /dev/null\n",
        "\n",
        "# convierte archivos midi en archivos wav para poder reproducirlos\n",
        "print('installing fluidsynth...')\n",
        "!apt-get install fluidsynth > /dev/null\n",
        "!cp /usr/share/sounds/sf2/FluidR3_GM.sf2 ./font.sf2\n",
        "\n",
        "\n",
        "print('done!')"
      ],
      "metadata": {
        "colab": {
          "base_uri": "https://localhost:8080/"
        },
        "id": "tuh5_69PUIBZ",
        "outputId": "b6a1f218-35f9-4342-f472-081a4e174847"
      },
      "execution_count": null,
      "outputs": [
        {
          "output_type": "stream",
          "name": "stdout",
          "text": [
            "installing Lilypond...\n",
            "Extracting templates from packages: 100%\n",
            "installing fluidsynth...\n",
            "done!\n"
          ]
        }
      ]
    },
    {
      "cell_type": "code",
      "source": [
        "import music21\n",
        "from IPython.display import Image, Audio\n",
        "def show(music):\n",
        "  display(Image(str(music.write('lily.png'))))\n",
        "\n",
        "def play(music):\n",
        "  filename = music.write('mid')\n",
        "  !fluidsynth -ni font.sf2 $filename -F $filename\\.wav -r 44100 > /dev/null\n",
        "  display(Audio(filename + '.wav'))"
      ],
      "metadata": {
        "id": "S-qreT4iVNl4"
      },
      "execution_count": null,
      "outputs": []
    },
    {
      "cell_type": "code",
      "source": [
        "\n",
        "from music21 import *\n",
        "\n",
        "def graficarPartitura(notas,titulo,vocabReves):\n",
        "  score = stream.Score()\n",
        "  verse = stream.Part()\n",
        "  measure = stream.Measure()\n",
        "  score.insert(0, metadata.Metadata())\n",
        "  score.metadata.composer = 'Aland Bravo Vecorena'\n",
        "  \n",
        "  \n",
        "  for i in range(0,len(notas)):\n",
        "    acumNotas=None\n",
        "    if notas[i] in range(25,39+1):\n",
        "      song_key = key.Key(key.sharpsToPitch(int(vocabReves[notas[i]]))) #asigna el numero de # o bemol\n",
        "      measure.insert(0, song_key)\n",
        "      song_key.octave = 4 # moverse hasta la 4ta octava alrededor del C central\n",
        "      score.metadata.title = titulo+\" %s\" % song_key.name\n",
        "    if notas[i] in range(40,44+1):\n",
        "      verse.append(meter.TimeSignature(vocabReves[notas[i]]))#asigna el compas 2/4\n",
        "    if notas[i] in range(47,134+1):\n",
        "      if notas[i+1]in range(3,18+1):\n",
        "        if notas[i+2] ==19:\n",
        "          acumNotas=note.Note(int(vocabReves[notas[i]]),quarterLength=float(vocabReves[notas[i+1]]))\n",
        "          acumNotas.tie=tie.Tie('start')\n",
        "        else:\n",
        "          acumNotas=note.Note(int(vocabReves[notas[i]]),quarterLength=float(vocabReves[notas[i+1]]))\n",
        "    if notas[i]==20:\n",
        "      if notas[i+1]in range(3,18+1):\n",
        "        acumNotas=note.Rest(quarterLength=float(vocabReves[notas[i+1]]))\n",
        "    if notas[i]==21:\n",
        "     measure.append(bar.Barline(style='regular'))\n",
        "    if notas[i]==22:\n",
        "      measure.append(bar.Barline(style='final'))\n",
        "    if notas[i]==23:\n",
        "      measure.leftBarline = bar.Repeat(direction='start')\n",
        "    if notas[i]==24:\n",
        "      measure.rightBarline = bar.Repeat(direction='end')\n",
        "    if acumNotas != None:\n",
        "      measure.append(acumNotas)\n",
        "  \n",
        "  verse.append(measure)\n",
        "  score.append(verse)\n",
        "  score.show('text')\n",
        "  play(score)\n",
        "  show(score)\n",
        "\n",
        "\n",
        "\n",
        "\n"
      ],
      "metadata": {
        "id": "6uCYMb3BmLvH"
      },
      "execution_count": null,
      "outputs": []
    },
    {
      "cell_type": "code",
      "source": [
        "graficarPartitura(partitura,\"nombre\",vocabReves)"
      ],
      "metadata": {
        "colab": {
          "base_uri": "https://localhost:8080/",
          "height": 1000
        },
        "id": "nC-GFTxL9_fY",
        "outputId": "8dbca51d-8222-4779-bd6b-5a7e4053752c"
      },
      "execution_count": null,
      "outputs": []
    }
  ]
}