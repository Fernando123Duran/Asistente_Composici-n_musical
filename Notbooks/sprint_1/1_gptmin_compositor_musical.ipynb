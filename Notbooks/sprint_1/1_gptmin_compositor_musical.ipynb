{
  "nbformat": 4,
  "nbformat_minor": 0,
  "metadata": {
    "colab": {
      "provenance": [],
      "mount_file_id": "1jSSf_Gd9Qs4w3cFhjSAfEWSHMO_7j2Yp",
      "authorship_tag": "ABX9TyMltHwqCFb7eDu1qJx/hfIn",
      "include_colab_link": true
    },
    "kernelspec": {
      "name": "python3",
      "display_name": "Python 3"
    },
    "language_info": {
      "name": "python"
    },
    "gpuClass": "standard",
    "widgets": {
      "application/vnd.jupyter.widget-state+json": {
        "6a8d60029f5c4fcfbacbdd613906e57f": {
          "model_module": "@jupyter-widgets/controls",
          "model_name": "HBoxModel",
          "model_module_version": "1.5.0",
          "state": {
            "_dom_classes": [],
            "_model_module": "@jupyter-widgets/controls",
            "_model_module_version": "1.5.0",
            "_model_name": "HBoxModel",
            "_view_count": null,
            "_view_module": "@jupyter-widgets/controls",
            "_view_module_version": "1.5.0",
            "_view_name": "HBoxView",
            "box_style": "",
            "children": [
              "IPY_MODEL_8eec4fbe259b4afc86e24285300ad6e3",
              "IPY_MODEL_11f38a57fd2544b2b2879e7855529067",
              "IPY_MODEL_fb67dfba63534660b6413e444d619470"
            ],
            "layout": "IPY_MODEL_67a14c6c66ba4d0dbea5f0092b1340eb"
          }
        },
        "8eec4fbe259b4afc86e24285300ad6e3": {
          "model_module": "@jupyter-widgets/controls",
          "model_name": "HTMLModel",
          "model_module_version": "1.5.0",
          "state": {
            "_dom_classes": [],
            "_model_module": "@jupyter-widgets/controls",
            "_model_module_version": "1.5.0",
            "_model_name": "HTMLModel",
            "_view_count": null,
            "_view_module": "@jupyter-widgets/controls",
            "_view_module_version": "1.5.0",
            "_view_name": "HTMLView",
            "description": "",
            "description_tooltip": null,
            "layout": "IPY_MODEL_e4921d156ee9470b8306d576fde455fa",
            "placeholder": "​",
            "style": "IPY_MODEL_da11b55278a2416a8d0350604a16f21c",
            "value": "Epoch 999: 100%"
          }
        },
        "11f38a57fd2544b2b2879e7855529067": {
          "model_module": "@jupyter-widgets/controls",
          "model_name": "FloatProgressModel",
          "model_module_version": "1.5.0",
          "state": {
            "_dom_classes": [],
            "_model_module": "@jupyter-widgets/controls",
            "_model_module_version": "1.5.0",
            "_model_name": "FloatProgressModel",
            "_view_count": null,
            "_view_module": "@jupyter-widgets/controls",
            "_view_module_version": "1.5.0",
            "_view_name": "ProgressView",
            "bar_style": "success",
            "description": "",
            "description_tooltip": null,
            "layout": "IPY_MODEL_692366100f6246d1aa594feb881848b4",
            "max": 1,
            "min": 0,
            "orientation": "horizontal",
            "style": "IPY_MODEL_b36510e965c24fa594c7751ce0773bbd",
            "value": 1
          }
        },
        "fb67dfba63534660b6413e444d619470": {
          "model_module": "@jupyter-widgets/controls",
          "model_name": "HTMLModel",
          "model_module_version": "1.5.0",
          "state": {
            "_dom_classes": [],
            "_model_module": "@jupyter-widgets/controls",
            "_model_module_version": "1.5.0",
            "_model_name": "HTMLModel",
            "_view_count": null,
            "_view_module": "@jupyter-widgets/controls",
            "_view_module_version": "1.5.0",
            "_view_name": "HTMLView",
            "description": "",
            "description_tooltip": null,
            "layout": "IPY_MODEL_4a370c71e88b44eaa70bc1d3bb1f3a62",
            "placeholder": "​",
            "style": "IPY_MODEL_6a07d6eeb89c462987aa8181f5beab20",
            "value": " 1/1 [00:00&lt;00:00,  5.25it/s, loss=0.00238]"
          }
        },
        "67a14c6c66ba4d0dbea5f0092b1340eb": {
          "model_module": "@jupyter-widgets/base",
          "model_name": "LayoutModel",
          "model_module_version": "1.2.0",
          "state": {
            "_model_module": "@jupyter-widgets/base",
            "_model_module_version": "1.2.0",
            "_model_name": "LayoutModel",
            "_view_count": null,
            "_view_module": "@jupyter-widgets/base",
            "_view_module_version": "1.2.0",
            "_view_name": "LayoutView",
            "align_content": null,
            "align_items": null,
            "align_self": null,
            "border": null,
            "bottom": null,
            "display": "inline-flex",
            "flex": null,
            "flex_flow": "row wrap",
            "grid_area": null,
            "grid_auto_columns": null,
            "grid_auto_flow": null,
            "grid_auto_rows": null,
            "grid_column": null,
            "grid_gap": null,
            "grid_row": null,
            "grid_template_areas": null,
            "grid_template_columns": null,
            "grid_template_rows": null,
            "height": null,
            "justify_content": null,
            "justify_items": null,
            "left": null,
            "margin": null,
            "max_height": null,
            "max_width": null,
            "min_height": null,
            "min_width": null,
            "object_fit": null,
            "object_position": null,
            "order": null,
            "overflow": null,
            "overflow_x": null,
            "overflow_y": null,
            "padding": null,
            "right": null,
            "top": null,
            "visibility": null,
            "width": "100%"
          }
        },
        "e4921d156ee9470b8306d576fde455fa": {
          "model_module": "@jupyter-widgets/base",
          "model_name": "LayoutModel",
          "model_module_version": "1.2.0",
          "state": {
            "_model_module": "@jupyter-widgets/base",
            "_model_module_version": "1.2.0",
            "_model_name": "LayoutModel",
            "_view_count": null,
            "_view_module": "@jupyter-widgets/base",
            "_view_module_version": "1.2.0",
            "_view_name": "LayoutView",
            "align_content": null,
            "align_items": null,
            "align_self": null,
            "border": null,
            "bottom": null,
            "display": null,
            "flex": null,
            "flex_flow": null,
            "grid_area": null,
            "grid_auto_columns": null,
            "grid_auto_flow": null,
            "grid_auto_rows": null,
            "grid_column": null,
            "grid_gap": null,
            "grid_row": null,
            "grid_template_areas": null,
            "grid_template_columns": null,
            "grid_template_rows": null,
            "height": null,
            "justify_content": null,
            "justify_items": null,
            "left": null,
            "margin": null,
            "max_height": null,
            "max_width": null,
            "min_height": null,
            "min_width": null,
            "object_fit": null,
            "object_position": null,
            "order": null,
            "overflow": null,
            "overflow_x": null,
            "overflow_y": null,
            "padding": null,
            "right": null,
            "top": null,
            "visibility": null,
            "width": null
          }
        },
        "da11b55278a2416a8d0350604a16f21c": {
          "model_module": "@jupyter-widgets/controls",
          "model_name": "DescriptionStyleModel",
          "model_module_version": "1.5.0",
          "state": {
            "_model_module": "@jupyter-widgets/controls",
            "_model_module_version": "1.5.0",
            "_model_name": "DescriptionStyleModel",
            "_view_count": null,
            "_view_module": "@jupyter-widgets/base",
            "_view_module_version": "1.2.0",
            "_view_name": "StyleView",
            "description_width": ""
          }
        },
        "692366100f6246d1aa594feb881848b4": {
          "model_module": "@jupyter-widgets/base",
          "model_name": "LayoutModel",
          "model_module_version": "1.2.0",
          "state": {
            "_model_module": "@jupyter-widgets/base",
            "_model_module_version": "1.2.0",
            "_model_name": "LayoutModel",
            "_view_count": null,
            "_view_module": "@jupyter-widgets/base",
            "_view_module_version": "1.2.0",
            "_view_name": "LayoutView",
            "align_content": null,
            "align_items": null,
            "align_self": null,
            "border": null,
            "bottom": null,
            "display": null,
            "flex": "2",
            "flex_flow": null,
            "grid_area": null,
            "grid_auto_columns": null,
            "grid_auto_flow": null,
            "grid_auto_rows": null,
            "grid_column": null,
            "grid_gap": null,
            "grid_row": null,
            "grid_template_areas": null,
            "grid_template_columns": null,
            "grid_template_rows": null,
            "height": null,
            "justify_content": null,
            "justify_items": null,
            "left": null,
            "margin": null,
            "max_height": null,
            "max_width": null,
            "min_height": null,
            "min_width": null,
            "object_fit": null,
            "object_position": null,
            "order": null,
            "overflow": null,
            "overflow_x": null,
            "overflow_y": null,
            "padding": null,
            "right": null,
            "top": null,
            "visibility": null,
            "width": null
          }
        },
        "b36510e965c24fa594c7751ce0773bbd": {
          "model_module": "@jupyter-widgets/controls",
          "model_name": "ProgressStyleModel",
          "model_module_version": "1.5.0",
          "state": {
            "_model_module": "@jupyter-widgets/controls",
            "_model_module_version": "1.5.0",
            "_model_name": "ProgressStyleModel",
            "_view_count": null,
            "_view_module": "@jupyter-widgets/base",
            "_view_module_version": "1.2.0",
            "_view_name": "StyleView",
            "bar_color": null,
            "description_width": ""
          }
        },
        "4a370c71e88b44eaa70bc1d3bb1f3a62": {
          "model_module": "@jupyter-widgets/base",
          "model_name": "LayoutModel",
          "model_module_version": "1.2.0",
          "state": {
            "_model_module": "@jupyter-widgets/base",
            "_model_module_version": "1.2.0",
            "_model_name": "LayoutModel",
            "_view_count": null,
            "_view_module": "@jupyter-widgets/base",
            "_view_module_version": "1.2.0",
            "_view_name": "LayoutView",
            "align_content": null,
            "align_items": null,
            "align_self": null,
            "border": null,
            "bottom": null,
            "display": null,
            "flex": null,
            "flex_flow": null,
            "grid_area": null,
            "grid_auto_columns": null,
            "grid_auto_flow": null,
            "grid_auto_rows": null,
            "grid_column": null,
            "grid_gap": null,
            "grid_row": null,
            "grid_template_areas": null,
            "grid_template_columns": null,
            "grid_template_rows": null,
            "height": null,
            "justify_content": null,
            "justify_items": null,
            "left": null,
            "margin": null,
            "max_height": null,
            "max_width": null,
            "min_height": null,
            "min_width": null,
            "object_fit": null,
            "object_position": null,
            "order": null,
            "overflow": null,
            "overflow_x": null,
            "overflow_y": null,
            "padding": null,
            "right": null,
            "top": null,
            "visibility": null,
            "width": null
          }
        },
        "6a07d6eeb89c462987aa8181f5beab20": {
          "model_module": "@jupyter-widgets/controls",
          "model_name": "DescriptionStyleModel",
          "model_module_version": "1.5.0",
          "state": {
            "_model_module": "@jupyter-widgets/controls",
            "_model_module_version": "1.5.0",
            "_model_name": "DescriptionStyleModel",
            "_view_count": null,
            "_view_module": "@jupyter-widgets/base",
            "_view_module_version": "1.2.0",
            "_view_name": "StyleView",
            "description_width": ""
          }
        }
      }
    }
  },
  "cells": [
    {
      "cell_type": "markdown",
      "metadata": {
        "id": "view-in-github",
        "colab_type": "text"
      },
      "source": [
        "<a href=\"https://colab.research.google.com/github/Fernando123Duran/Asistente_Composici-n_musical/blob/main/Notbooks/sprint_1/1_gptmin_compositor_musical.ipynb\" target=\"_parent\"><img src=\"https://colab.research.google.com/assets/colab-badge.svg\" alt=\"Open In Colab\"/></a>"
      ]
    },
    {
      "cell_type": "code",
      "execution_count": null,
      "metadata": {
        "colab": {
          "base_uri": "https://localhost:8080/"
        },
        "id": "wW670EpmtBmo",
        "outputId": "c9c7f19a-e305-4e66-ab5d-f35e5f209717"
      },
      "outputs": [
        {
          "output_type": "stream",
          "name": "stdout",
          "text": [
            "Mounted at /gdrive\n",
            "/gdrive/My Drive/Colab/proyecto_perfil/modelo\n"
          ]
        }
      ],
      "source": [
        "from google.colab import drive\n",
        "drive.mount('/gdrive')\n",
        "%cd '/gdrive/My Drive/Colab/proyecto_perfil/modelo'"
      ]
    },
    {
      "cell_type": "code",
      "source": [
        "!ls "
      ],
      "metadata": {
        "colab": {
          "base_uri": "https://localhost:8080/"
        },
        "id": "t8uoUfh3uGZF",
        "outputId": "cff31389-0c44-417e-b7f3-97adc8e52484"
      },
      "execution_count": null,
      "outputs": [
        {
          "output_type": "stream",
          "name": "stdout",
          "text": [
            "1_gptmin_compositor_musical.ipynb  minGPT\n"
          ]
        }
      ]
    },
    {
      "cell_type": "code",
      "source": [
        "%cd minGPT"
      ],
      "metadata": {
        "colab": {
          "base_uri": "https://localhost:8080/"
        },
        "id": "n5F5yCQ18vxr",
        "outputId": "9e2c7745-d1b3-42fa-fdf1-24d265d8c474"
      },
      "execution_count": null,
      "outputs": [
        {
          "output_type": "stream",
          "name": "stdout",
          "text": [
            "/gdrive/My Drive/Colab/proyecto_perfil/modelo/minGPT\n"
          ]
        }
      ]
    },
    {
      "cell_type": "code",
      "source": [
        "!pip install -e ."
      ],
      "metadata": {
        "colab": {
          "base_uri": "https://localhost:8080/"
        },
        "id": "kNdJ_tGe82ui",
        "outputId": "54b20ac2-007c-45b2-f7d5-20544169d512"
      },
      "execution_count": null,
      "outputs": [
        {
          "output_type": "stream",
          "name": "stdout",
          "text": [
            "Looking in indexes: https://pypi.org/simple, https://us-python.pkg.dev/colab-wheels/public/simple/\n",
            "Obtaining file:///gdrive/My%20Drive/Colab/proyecto_perfil/modelo/minGPT\n",
            "Requirement already satisfied: torch in /usr/local/lib/python3.7/dist-packages (from minGPT==0.0.1) (1.12.1+cu113)\n",
            "Requirement already satisfied: typing-extensions in /usr/local/lib/python3.7/dist-packages (from torch->minGPT==0.0.1) (4.1.1)\n",
            "Installing collected packages: minGPT\n",
            "  Running setup.py develop for minGPT\n",
            "Successfully installed minGPT-0.0.1\n"
          ]
        }
      ]
    },
    {
      "cell_type": "code",
      "source": [
        "# Ejecutar solo la primera vez cuando se prepara el entorno de trabajo\n",
        "# !git clone https://github.com/karpathy/minGPT.git "
      ],
      "metadata": {
        "colab": {
          "base_uri": "https://localhost:8080/"
        },
        "id": "mBZvd8P0uHpN",
        "outputId": "2ffd51b5-5693-44bb-dc8d-c73563730030"
      },
      "execution_count": null,
      "outputs": [
        {
          "output_type": "stream",
          "name": "stdout",
          "text": [
            "Cloning into 'minGPT'...\n",
            "remote: Enumerating objects: 486, done.\u001b[K\n",
            "remote: Counting objects: 100% (195/195), done.\u001b[K\n",
            "remote: Compressing objects: 100% (99/99), done.\u001b[K\n",
            "remote: Total 486 (delta 101), reused 160 (delta 88), pack-reused 291\u001b[K\n",
            "Receiving objects: 100% (486/486), 1.46 MiB | 8.01 MiB/s, done.\n",
            "Resolving deltas: 100% (256/256), done.\n"
          ]
        }
      ]
    },
    {
      "cell_type": "code",
      "source": [
        "!pip install  music21 8.1.0"
      ],
      "metadata": {
        "colab": {
          "base_uri": "https://localhost:8080/"
        },
        "id": "1Y7ugLzPpQ_C",
        "outputId": "51d47caa-6e72-4daf-f532-d46f65f29f5a"
      },
      "execution_count": null,
      "outputs": [
        {
          "output_type": "stream",
          "name": "stdout",
          "text": [
            "Looking in indexes: https://pypi.org/simple, https://us-python.pkg.dev/colab-wheels/public/simple/\n",
            "Requirement already satisfied: music21 in /usr/local/lib/python3.7/dist-packages (7.3.3)\n",
            "\u001b[31mERROR: Could not find a version that satisfies the requirement 8.1.0 (from versions: none)\u001b[0m\n",
            "\u001b[31mERROR: No matching distribution found for 8.1.0\u001b[0m\n"
          ]
        }
      ]
    },
    {
      "cell_type": "code",
      "source": [
        "!pip list"
      ],
      "metadata": {
        "id": "fDC94U3ro-jv"
      },
      "execution_count": null,
      "outputs": []
    },
    {
      "cell_type": "code",
      "source": [
        "import torch\n",
        "import numpy as np\n",
        "import json"
      ],
      "metadata": {
        "id": "AxL62nXX24jQ"
      },
      "execution_count": null,
      "outputs": []
    },
    {
      "cell_type": "code",
      "source": [
        "\n",
        "def cargarArchivosNPY(path):\n",
        "    with open(path, 'rb') as f:\n",
        "        datos = np.load(f,allow_pickle=True)\n",
        "    return datos "
      ],
      "metadata": {
        "id": "xlWCs2hFvtGN"
      },
      "execution_count": null,
      "outputs": []
    },
    {
      "cell_type": "code",
      "source": [
        "def cargarVocabulario(pathVocabulario):\n",
        "    with open(pathVocabulario, \"r\") as fp:\n",
        "        mappings = json.load(fp)\n",
        "    return mappings"
      ],
      "metadata": {
        "id": "vvDgZStu0bLB"
      },
      "execution_count": null,
      "outputs": []
    },
    {
      "cell_type": "code",
      "source": [
        "vocab=cargarVocabulario(\"../../vocabulario/vocabulario2022.json\")\n",
        "len(vocab)"
      ],
      "metadata": {
        "colab": {
          "base_uri": "https://localhost:8080/"
        },
        "id": "_Ggmlubs01kz",
        "outputId": "e036ada7-8870-4d9b-c2c7-5f53bd1bcac2"
      },
      "execution_count": null,
      "outputs": [
        {
          "output_type": "execute_result",
          "data": {
            "text/plain": [
              "135"
            ]
          },
          "metadata": {},
          "execution_count": 7
        }
      ]
    },
    {
      "cell_type": "code",
      "source": [
        "!ls "
      ],
      "metadata": {
        "colab": {
          "base_uri": "https://localhost:8080/"
        },
        "id": "CGmKHIxw0IGe",
        "outputId": "e01e92ec-1600-4eb9-9ffd-a7c76e6b31d2"
      },
      "execution_count": null,
      "outputs": [
        {
          "output_type": "stream",
          "name": "stdout",
          "text": [
            "demo.ipynb  generate.ipynb  mingpt\t     mingpt.jpg  README.md  tests\n",
            "font.sf2    LICENSE\t    minGPT.egg-info  projects\t setup.py\n"
          ]
        }
      ]
    },
    {
      "cell_type": "code",
      "source": [
        "datos=cargarArchivosNPY(\"../../archivos_numpy/partituras.npy\")\n",
        "datos"
      ],
      "metadata": {
        "id": "n2zTKrFayfhz"
      },
      "execution_count": null,
      "outputs": []
    },
    {
      "cell_type": "code",
      "source": [
        "datoPrueba= datos.tolist()\n",
        "datoPrueba=np.array(datoPrueba[\"0\"])\n",
        "len(datoPrueba)"
      ],
      "metadata": {
        "colab": {
          "base_uri": "https://localhost:8080/"
        },
        "id": "eFzo15O6OW9a",
        "outputId": "d7e36455-8eb2-4c31-866b-88b3f8ff95d8"
      },
      "execution_count": null,
      "outputs": [
        {
          "output_type": "execute_result",
          "data": {
            "text/plain": [
              "310"
            ]
          },
          "metadata": {},
          "execution_count": 10
        }
      ]
    },
    {
      "cell_type": "code",
      "source": [
        "def convertir_tokens_a_notas(vocabulario,listTokens):\n",
        "  vocaRev = { i:ch for i,ch in enumerate(vocab) }\n",
        "  notas=[vocaRev[t] for t in listTokens]\n",
        "  return notas,vocaRev\n",
        "\n"
      ],
      "metadata": {
        "id": "Ep60YbT_g-CI"
      },
      "execution_count": null,
      "outputs": []
    },
    {
      "cell_type": "code",
      "source": [
        "convertir_tokens_a_notas(vocab,[0,1,2,3,4,30])"
      ],
      "metadata": {
        "id": "ZczkjnTTkDdY"
      },
      "execution_count": null,
      "outputs": []
    },
    {
      "cell_type": "code",
      "source": [
        "stoi = { i:ch for i,ch in enumerate(vocab) }\n",
        "stoi"
      ],
      "metadata": {
        "id": "AHFgCPIFjE2_"
      },
      "execution_count": null,
      "outputs": []
    },
    {
      "cell_type": "code",
      "source": [
        "from mingpt.model import GPT\n",
        "model_config = GPT.get_default_config()\n",
        "model_config.model_type = 'gpt2'\n",
        "model_config.vocab_size =len(vocab) # openai's model vocabulary\n",
        "model_config.block_size = 1024 \n",
        "\n",
        "\n",
        "model = GPT(model_config)\n",
        "\n",
        "model"
      ],
      "metadata": {
        "id": "TuOD_gRC1XSh"
      },
      "execution_count": null,
      "outputs": []
    },
    {
      "cell_type": "code",
      "source": [
        "\n",
        "class Dataset(torch.utils.data.Dataset):\n",
        "\n",
        "  def __init__(self, examples,sizeBlock):\n",
        "    self.examples = examples\n",
        "    self.sizeBlock = sizeBlock\n",
        "\n",
        "  def __len__(self):\n",
        "    return len(self.examples)\n",
        "   \n",
        "  def __getitem__(self, ix):\n",
        "    dato=self.examples[ix]\n",
        "    entrada=dato[:-1]\n",
        "    salida = dato[1:]\n",
        "    input = np.pad(entrada, (0,self.sizeBlock-len(entrada)), 'constant', constant_values=0)\n",
        "    target = np.pad(salida, (0,self.sizeBlock-len(salida)), 'constant', constant_values=0)\n",
        "    assert len(input) == self.sizeBlock\n",
        "    assert len(target) == self.sizeBlock\n",
        "\n",
        "    return torch.LongTensor(input), torch.LongTensor(target)"
      ],
      "metadata": {
        "id": "oxGeZCnk2A6n"
      },
      "execution_count": null,
      "outputs": []
    },
    {
      "cell_type": "code",
      "source": [
        "instanciaDataset=Dataset([datoPrueba],1024)\n",
        "input,target=instanciaDataset[0]\n",
        "# print(input)\n"
      ],
      "metadata": {
        "id": "0laoK-CjN1_V"
      },
      "execution_count": null,
      "outputs": []
    },
    {
      "cell_type": "code",
      "source": [
        "# print(target)"
      ],
      "metadata": {
        "id": "C6GVgZ1NViOW"
      },
      "execution_count": null,
      "outputs": []
    },
    {
      "cell_type": "code",
      "source": [
        "dl = torch.utils.data.DataLoader(instanciaDataset, batch_size=1, shuffle=False)\n",
        "\n",
        "x, y = next(iter(dl))\n",
        "x.shape, y.shape"
      ],
      "metadata": {
        "colab": {
          "base_uri": "https://localhost:8080/"
        },
        "id": "itOZssgMIya1",
        "outputId": "ec52c42a-1274-46ab-e0bb-1d99f53731dd"
      },
      "execution_count": null,
      "outputs": [
        {
          "output_type": "execute_result",
          "data": {
            "text/plain": [
              "(torch.Size([1, 1024]), torch.Size([1, 1024]))"
            ]
          },
          "metadata": {},
          "execution_count": 14
        }
      ]
    },
    {
      "cell_type": "code",
      "source": [
        "!pip install pytorch_lightning"
      ],
      "metadata": {
        "id": "BGcdzM0TW12W"
      },
      "execution_count": null,
      "outputs": []
    },
    {
      "cell_type": "code",
      "source": [
        "import pytorch_lightning as pl  \n",
        "\n",
        "class Module(pl.LightningModule):\n",
        "\tdef __init__(self, model, tconf):\n",
        "\t\tsuper().__init__()\n",
        "\t\tself.model = model \n",
        "\t\tself.tconf = tconf\n",
        "\n",
        "\tdef forward(self, x):\n",
        "\t\treturn self.model(x)[0]\n",
        "\n",
        "\tdef training_step(self, batch, batch_idx):\n",
        "\t\ty, loss = self.model(*batch)\n",
        "\t\treturn loss \n",
        "\n",
        "\tdef validation_step(self, batch, batch_idx):\n",
        "\t\ty, loss = self.model(*batch)\n",
        "\t\tself.log('val_loss', loss.item())\n",
        "\n",
        "\tdef configure_optimizers(self):\n",
        "\t\treturn self.model.configure_optimizers(self.tconf)"
      ],
      "metadata": {
        "id": "UG7E3R9JKNed"
      },
      "execution_count": null,
      "outputs": []
    },
    {
      "cell_type": "code",
      "source": [
        "from mingpt.trainer import Trainer\n",
        "train_config = Trainer.get_default_config()\n",
        "train_config.learning_rate = 5e-4 # many possible options, see the file\n",
        "train_config.batch_size=1\n",
        "module=Module(model,train_config)"
      ],
      "metadata": {
        "id": "WGhXh5stXAUL"
      },
      "execution_count": null,
      "outputs": []
    },
    {
      "cell_type": "code",
      "source": [
        "trainer = pl.Trainer(\n",
        "\tgpus=1,\n",
        "\tmax_epochs=1000,\n",
        "\tprecision=16,\n",
        "\toverfit_batches=1,\n",
        "\tlogger=False,\n",
        "\tenable_checkpointing=False,\n",
        ")\n",
        "\n",
        "trainer.fit(module, dl)"
      ],
      "metadata": {
        "colab": {
          "base_uri": "https://localhost:8080/",
          "height": 434,
          "referenced_widgets": [
            "6a8d60029f5c4fcfbacbdd613906e57f",
            "8eec4fbe259b4afc86e24285300ad6e3",
            "11f38a57fd2544b2b2879e7855529067",
            "fb67dfba63534660b6413e444d619470",
            "67a14c6c66ba4d0dbea5f0092b1340eb",
            "e4921d156ee9470b8306d576fde455fa",
            "da11b55278a2416a8d0350604a16f21c",
            "692366100f6246d1aa594feb881848b4",
            "b36510e965c24fa594c7751ce0773bbd",
            "4a370c71e88b44eaa70bc1d3bb1f3a62",
            "6a07d6eeb89c462987aa8181f5beab20"
          ]
        },
        "id": "GwImDG02XQXj",
        "outputId": "18a0aa05-7613-431b-d355-4b50b83f06b4"
      },
      "execution_count": null,
      "outputs": [
        {
          "output_type": "stream",
          "name": "stderr",
          "text": [
            "/usr/local/lib/python3.7/dist-packages/pytorch_lightning/trainer/connectors/accelerator_connector.py:447: LightningDeprecationWarning: Setting `Trainer(gpus=1)` is deprecated in v1.7 and will be removed in v2.0. Please use `Trainer(accelerator='gpu', devices=1)` instead.\n",
            "  f\"Setting `Trainer(gpus={gpus!r})` is deprecated in v1.7 and will be removed\"\n",
            "INFO:pytorch_lightning.utilities.rank_zero:Using 16bit native Automatic Mixed Precision (AMP)\n",
            "INFO:pytorch_lightning.utilities.rank_zero:GPU available: True (cuda), used: True\n",
            "INFO:pytorch_lightning.utilities.rank_zero:TPU available: False, using: 0 TPU cores\n",
            "INFO:pytorch_lightning.utilities.rank_zero:IPU available: False, using: 0 IPUs\n",
            "INFO:pytorch_lightning.utilities.rank_zero:HPU available: False, using: 0 HPUs\n",
            "INFO:pytorch_lightning.utilities.rank_zero:`Trainer(overfit_batches=1)` was configured so 1 batch will be used.\n",
            "/usr/local/lib/python3.7/dist-packages/pytorch_lightning/trainer/configuration_validator.py:110: PossibleUserWarning: You defined a `validation_step` but have no `val_dataloader`. Skipping val loop.\n",
            "  category=PossibleUserWarning,\n",
            "INFO:pytorch_lightning.accelerators.cuda:LOCAL_RANK: 0 - CUDA_VISIBLE_DEVICES: [0]\n",
            "INFO:pytorch_lightning.callbacks.model_summary:\n",
            "  | Name  | Type | Params\n",
            "-------------------------------\n",
            "0 | model | GPT  | 86.0 M\n",
            "-------------------------------\n",
            "86.0 M    Trainable params\n",
            "0         Non-trainable params\n",
            "86.0 M    Total params\n",
            "172.100   Total estimated model params size (MB)\n"
          ]
        },
        {
          "output_type": "display_data",
          "data": {
            "text/plain": [
              "Training: 0it [00:00, ?it/s]"
            ],
            "application/vnd.jupyter.widget-view+json": {
              "version_major": 2,
              "version_minor": 0,
              "model_id": "6a8d60029f5c4fcfbacbdd613906e57f"
            }
          },
          "metadata": {}
        },
        {
          "output_type": "stream",
          "name": "stderr",
          "text": [
            "INFO:pytorch_lightning.utilities.rank_zero:`Trainer.fit` stopped: `max_epochs=1000` reached.\n"
          ]
        }
      ]
    },
    {
      "cell_type": "code",
      "source": [
        "model.eval()"
      ],
      "metadata": {
        "id": "UrFGPnKFVAZo"
      },
      "execution_count": null,
      "outputs": []
    },
    {
      "cell_type": "code",
      "source": [
        "new_words = 15\n",
        "entr=input[:300].expand(1,-1)\n",
        "y = model.generate(entr, new_words)\n",
        "#Tokens generados\n",
        "y "
      ],
      "metadata": {
        "colab": {
          "base_uri": "https://localhost:8080/"
        },
        "id": "k0jsASRSTYEo",
        "outputId": "c24a207b-b8ff-42ba-a261-f62259f4ac91"
      },
      "execution_count": null,
      "outputs": [
        {
          "output_type": "execute_result",
          "data": {
            "text/plain": [
              "tensor([[  1,  45,  34,  41, 103,   3, 107,   4, 107,   3,  19, 107,   3, 107,\n",
              "           4, 105,   3, 107,   4, 105,   4, 107,   3, 105,   3, 107,   3, 109,\n",
              "           3, 110,   8,  20,   4, 102,   3, 105,   4, 105,   3, 105,   3, 105,\n",
              "           4, 107,   3, 105,   5, 100,   3, 102,   3, 100,   3,  99,   3, 102,\n",
              "           3, 100,   6,  20,   6,  24,  23, 100,   3, 103,   4, 103,   3, 103,\n",
              "           3, 103,   4, 102,   3, 103,   4, 102,   4, 103,   3, 102,   3, 103,\n",
              "           3, 105,   3, 107,   8,  20,   4, 102,   3, 105,   4, 105,   3, 105,\n",
              "           3, 105,   4, 107,   3, 105,   5, 102,   3, 102,   3, 100,   3,  99,\n",
              "           3, 102,   3,  21, 100,   8,  20,   4,  24,  21, 100,   5, 107,   3,\n",
              "         107,   3, 107,   4, 105,   3,  21,  23, 107,   3, 107,   4, 105,   3,\n",
              "         107,   5, 105,   3, 107,   8,  20,   4, 102,   3, 105,   4, 105,   3,\n",
              "         105,   3, 105,   4, 107,   3, 105,   5, 102,   3, 102,   3, 100,   3,\n",
              "          99,   3, 102,   3,  21, 100,   5, 107,   3, 107,   3, 107,   4, 105,\n",
              "           3,  24,  21, 100,   4, 100,   4, 100,   3,  98,   3,  95,   4,  21,\n",
              "          23, 112,   3, 112,   3, 110,   3, 110,   3, 107,   3, 107,   3, 105,\n",
              "           3, 107,   3, 110,   8,  20,   4, 105,   3, 107,   3, 110,   3, 105,\n",
              "           3, 107,   3, 110,   3, 105,   3, 103,   3, 100,   8,  20,   4,  24,\n",
              "          23, 100,   3, 103,   4, 103,   3, 103,   3, 103,   4, 102,   3, 103,\n",
              "           4, 102,   4, 103,   3, 102,   3, 103,   3, 105,   3, 107,   8,  20,\n",
              "           4, 102,   3, 105,   4, 105,   3, 105,   3, 105,   4, 107,   3, 105,\n",
              "           5, 102,   3, 102,   3, 100,   3,  99,   3, 102,   3,  21, 100,   8,\n",
              "          20,   4,  24,  21, 100,   4, 100,   4, 100,   3,  98,   3,  95,   4,\n",
              "          22,   2,   0,   0,   0,   0,   0]])"
            ]
          },
          "metadata": {},
          "execution_count": 41
        }
      ]
    },
    {
      "cell_type": "code",
      "source": [
        "#Token real partitura\n",
        "print(target[:315])"
      ],
      "metadata": {
        "colab": {
          "base_uri": "https://localhost:8080/"
        },
        "id": "RYAlFcKycyQ_",
        "outputId": "5f43ba17-8bc5-4d3d-9440-54992db960d1"
      },
      "execution_count": null,
      "outputs": [
        {
          "output_type": "stream",
          "name": "stdout",
          "text": [
            "tensor([ 45,  34,  41, 103,   3, 107,   4, 107,   3,  19, 107,   3, 107,   4,\n",
            "        105,   3, 107,   4, 105,   4, 107,   3, 105,   3, 107,   3, 109,   3,\n",
            "        110,   8,  20,   4, 102,   3, 105,   4, 105,   3, 105,   3, 105,   4,\n",
            "        107,   3, 105,   5, 100,   3, 102,   3, 100,   3,  99,   3, 102,   3,\n",
            "        100,   6,  20,   6,  24,  23, 100,   3, 103,   4, 103,   3, 103,   3,\n",
            "        103,   4, 102,   3, 103,   4, 102,   4, 103,   3, 102,   3, 103,   3,\n",
            "        105,   3, 107,   8,  20,   4, 102,   3, 105,   4, 105,   3, 105,   3,\n",
            "        105,   4, 107,   3, 105,   5, 102,   3, 102,   3, 100,   3,  99,   3,\n",
            "        102,   3,  21, 100,   8,  20,   4,  24,  21, 100,   5, 107,   3, 107,\n",
            "          3, 107,   4, 105,   3,  21,  23, 107,   3, 107,   4, 105,   3, 107,\n",
            "          5, 105,   3, 107,   8,  20,   4, 102,   3, 105,   4, 105,   3, 105,\n",
            "          3, 105,   4, 107,   3, 105,   5, 102,   3, 102,   3, 100,   3,  99,\n",
            "          3, 102,   3,  21, 100,   5, 107,   3, 107,   3, 107,   4, 105,   3,\n",
            "         24,  21, 100,   4, 100,   4, 100,   3,  98,   3,  95,   4,  21,  23,\n",
            "        112,   3, 112,   3, 110,   3, 110,   3, 107,   3, 107,   3, 105,   3,\n",
            "        107,   3, 110,   8,  20,   4, 105,   3, 107,   3, 110,   3, 105,   3,\n",
            "        107,   3, 110,   3, 105,   3, 103,   3, 100,   8,  20,   4,  24,  23,\n",
            "        100,   3, 103,   4, 103,   3, 103,   3, 103,   4, 102,   3, 103,   4,\n",
            "        102,   4, 103,   3, 102,   3, 103,   3, 105,   3, 107,   8,  20,   4,\n",
            "        102,   3, 105,   4, 105,   3, 105,   3, 105,   4, 107,   3, 105,   5,\n",
            "        102,   3, 102,   3, 100,   3,  99,   3, 102,   3,  21, 100,   8,  20,\n",
            "          4,  24,  21, 100,   4, 100,   4, 100,   3,  98,   3,  95,   4,  22,\n",
            "          2,   0,   0,   0,   0,   0,   0])\n"
          ]
        }
      ]
    },
    {
      "cell_type": "code",
      "source": [
        "partitura=[ 45,  34,  41, 103,   3, 107,   4, 107,   3,  19, 107,   3, 107,   4,\n",
        "        105,   3, 107,   4, 105,   4, 107,   3, 105,   3, 107,   3, 109,   3,\n",
        "        110,   8,  20,   4, 102,   3, 105,   4, 105,   3, 105,   3, 105,   4,\n",
        "        107,   3, 105,   5, 100,   3, 102,   3, 100,   3,  99,   3, 102,   3,\n",
        "        100,   6,  20,   6,  24,  23, 100,   3, 103,   4, 103,   3, 103,   3,\n",
        "        103,   4, 102,   3, 103,   4, 102,   4, 103,   3, 102,   3, 103,   3,\n",
        "        105,   3, 107,   8,  20,   4, 102,   3, 105,   4, 105,   3, 105,   3,\n",
        "        105,   4, 107,   3, 105,   5, 102,   3, 102,   3, 100,   3,  99,   3,\n",
        "        102,   3,  21, 100,   8,  20,   4,  24,  21, 100,   5, 107,   3, 107,\n",
        "          3, 107,   4, 105,   3,  21,  23, 107,   3, 107,   4, 105,   3, 107,\n",
        "          5, 105,   3, 107,   8,  20,   4, 102,   3, 105,   4, 105,   3, 105,\n",
        "          3, 105,   4, 107,   3, 105,   5, 102,   3, 102,   3, 100,   3,  99,\n",
        "          3, 102,   3,  21, 100,   5, 107,   3, 107,   3, 107,   4, 105,   3,\n",
        "         24,  21, 100,   4, 100,   4, 100,   3,  98,   3,  95,   4,  21,  23,\n",
        "        112,   3, 112,   3, 110,   3, 110,   3, 107,   3, 107,   3, 105,   3,\n",
        "        107,   3, 110,   8,  20,   4, 105,   3, 107,   3, 110,   3, 105,   3,\n",
        "        107,   3, 110,   3, 105,   3, 103,   3, 100,   8,  20,   4,  24,  23,\n",
        "        100,   3, 103,   4, 103,   3, 103,   3, 103,   4, 102,   3, 103,   4,\n",
        "        102,   4, 103,   3, 102,   3, 103,   3, 105,   3, 107,   8,  20,   4,\n",
        "        102,   3, 105,   4, 105,   3, 105,   3, 105,   4, 107,   3, 105,   5,\n",
        "        102,   3, 102,   3, 100,   3,  99,   3, 102,   3,  21, 100,   8,  20,\n",
        "          4,  24,  21, 100,   4, 100,   4, 100,   3,  98,   3,  95,   4,  22,]"
      ],
      "metadata": {
        "id": "Q0lubDILIBRn"
      },
      "execution_count": null,
      "outputs": []
    },
    {
      "cell_type": "code",
      "source": [
        "#Apartir de esta celda el siguiente codigo es para graficar los tokens a una imagen de partitura lo cual no se pudo terminar en este Sprint\n",
        "partituraLimpia,vocabReves=convertir_tokens_a_notas(vocabulario=vocab,listTokens=partitura)\n",
        "partituraLimpia=np.array(partituraLimpia)\n",
        "vocabReves[partitura[5]]"
      ],
      "metadata": {
        "colab": {
          "base_uri": "https://localhost:8080/",
          "height": 35
        },
        "id": "hTNdn8_-I24I",
        "outputId": "50abca41-72b3-4e5c-c4e0-dcb392d6469c"
      },
      "execution_count": null,
      "outputs": [
        {
          "output_type": "execute_result",
          "data": {
            "text/plain": [
              "'81'"
            ],
            "application/vnd.google.colaboratory.intrinsic+json": {
              "type": "string"
            }
          },
          "metadata": {},
          "execution_count": 14
        }
      ]
    },
    {
      "cell_type": "code",
      "source": [
        "#permite que music21 renderice imágenes de notas musicales\n",
        "print('installing Lilypond...')\n",
        "!apt-get install lilypond > /dev/null\n",
        "\n",
        "# convierte archivos midi en archivos wav para poder reproducirlos\n",
        "print('installing fluidsynth...')\n",
        "!apt-get install fluidsynth > /dev/null\n",
        "!cp /usr/share/sounds/sf2/FluidR3_GM.sf2 ./font.sf2\n",
        "\n",
        "\n",
        "print('done!')"
      ],
      "metadata": {
        "colab": {
          "base_uri": "https://localhost:8080/"
        },
        "id": "tuh5_69PUIBZ",
        "outputId": "b6a1f218-35f9-4342-f472-081a4e174847"
      },
      "execution_count": null,
      "outputs": [
        {
          "output_type": "stream",
          "name": "stdout",
          "text": [
            "installing Lilypond...\n",
            "Extracting templates from packages: 100%\n",
            "installing fluidsynth...\n",
            "done!\n"
          ]
        }
      ]
    },
    {
      "cell_type": "code",
      "source": [
        "import music21\n",
        "from IPython.display import Image, Audio\n",
        "def show(music):\n",
        "  display(Image(str(music.write('lily.png'))))\n",
        "\n",
        "def play(music):\n",
        "  filename = music.write('mid')\n",
        "  !fluidsynth -ni font.sf2 $filename -F $filename\\.wav -r 44100 > /dev/null\n",
        "  display(Audio(filename + '.wav'))"
      ],
      "metadata": {
        "id": "S-qreT4iVNl4"
      },
      "execution_count": null,
      "outputs": []
    },
    {
      "cell_type": "code",
      "source": [
        "\n",
        "from music21 import *\n",
        "\n",
        "def graficarPartitura(notas,titulo,vocabReves):\n",
        "  score = stream.Score()\n",
        "  verse = stream.Part()\n",
        "  measure = stream.Measure()\n",
        "  score.insert(0, metadata.Metadata())\n",
        "  score.metadata.composer = 'Aland Bravo Vecorena'\n",
        "  \n",
        "  \n",
        "  for i in range(0,len(notas)):\n",
        "    acumNotas=None\n",
        "    if notas[i] in range(25,39+1):\n",
        "      song_key = key.Key(key.sharpsToPitch(int(vocabReves[notas[i]]))) #asigna el numero de # o bemol\n",
        "      measure.insert(0, song_key)\n",
        "      song_key.octave = 4 # moverse hasta la 4ta octava alrededor del C central\n",
        "      score.metadata.title = titulo+\" %s\" % song_key.name\n",
        "    if notas[i] in range(40,44+1):\n",
        "      verse.append(meter.TimeSignature(vocabReves[notas[i]]))#asigna el compas 2/4\n",
        "    if notas[i] in range(47,134+1):\n",
        "      if notas[i+1]in range(3,18+1):\n",
        "        if notas[i+2] ==19:\n",
        "          acumNotas=note.Note(int(vocabReves[notas[i]]),quarterLength=float(vocabReves[notas[i+1]]))\n",
        "          acumNotas.tie=tie.Tie('start')\n",
        "        else:\n",
        "          acumNotas=note.Note(int(vocabReves[notas[i]]),quarterLength=float(vocabReves[notas[i+1]]))\n",
        "    if notas[i]==20:\n",
        "      if notas[i+1]in range(3,18+1):\n",
        "        acumNotas=note.Rest(quarterLength=float(vocabReves[notas[i+1]]))\n",
        "    if notas[i]==21:\n",
        "     measure.append(bar.Barline(style='regular'))\n",
        "    if notas[i]==22:\n",
        "      measure.append(bar.Barline(style='final'))\n",
        "    if notas[i]==23:\n",
        "      measure.leftBarline = bar.Repeat(direction='start')\n",
        "    if notas[i]==24:\n",
        "      measure.rightBarline = bar.Repeat(direction='end')\n",
        "    if acumNotas != None:\n",
        "      measure.append(acumNotas)\n",
        "  \n",
        "  verse.append(measure)\n",
        "  score.append(verse)\n",
        "  score.show('text')\n",
        "  play(score)\n",
        "  show(score)\n",
        "\n",
        "\n",
        "\n",
        "\n"
      ],
      "metadata": {
        "id": "6uCYMb3BmLvH"
      },
      "execution_count": null,
      "outputs": []
    },
    {
      "cell_type": "code",
      "source": [
        "graficarPartitura(partitura,\"nombre\",vocabReves)"
      ],
      "metadata": {
        "colab": {
          "base_uri": "https://localhost:8080/",
          "height": 1000
        },
        "id": "nC-GFTxL9_fY",
        "outputId": "8dbca51d-8222-4779-bd6b-5a7e4053752c"
      },
      "execution_count": null,
      "outputs": []
    }
  ]
}